{
 "cells": [
  {
   "cell_type": "markdown",
   "id": "55153bd8",
   "metadata": {},
   "source": [
    "# Tarea 1-Python"
   ]
  },
  {
   "cell_type": "markdown",
   "id": "b77099be",
   "metadata": {},
   "source": [
    "*1. Escribe una secuencia de instrucciones que permitan leer un número real por pantalla y que muestre si el número es positivo o no.*"
   ]
  },
  {
   "cell_type": "code",
   "execution_count": 17,
   "id": "3a21ce72",
   "metadata": {},
   "outputs": [
    {
     "name": "stdout",
     "output_type": "stream",
     "text": [
      "Escribe tú número real: 0\n",
      "El número digitado es cero\n"
     ]
    }
   ],
   "source": [
    "numero = int(input(\"Escribe tú número real: \"))\n",
    "\n",
    "if numero > 0 :\n",
    "        print(\"El número digitado es positivo\")\n",
    "\n",
    "elif numero < 0 :\n",
    "        print(\"El número digitado es negativo\")\n",
    "    \n",
    "else:\n",
    "        \n",
    "        print(\"El número digitado es cero\")"
   ]
  },
  {
   "cell_type": "markdown",
   "id": "b0e4c57b",
   "metadata": {},
   "source": [
    "*2. Escribe una secuencia de instrucciones que permitan leer un número real por pantalla y que muestre si el número está en el rango entre -5 y 5, ambos incluidos.*"
   ]
  },
  {
   "cell_type": "code",
   "execution_count": 30,
   "id": "0d13e2e1",
   "metadata": {},
   "outputs": [
    {
     "name": "stdout",
     "output_type": "stream",
     "text": [
      "Escribe el número real: 5.000000000000000000000000001\n",
      "El número digitado no se encuentra en el rango entre -5 y 5\n"
     ]
    }
   ],
   "source": [
    "from decimal import Decimal as D            # para leer valores en la frontera\n",
    "\n",
    "numero = D(input(\"Escribe el número real: \"))\n",
    "\n",
    "if numero >= -5 and numero <=5:\n",
    "    print(\"El número está en el rango entre -5 y 5\")\n",
    "else: \n",
    "    print(\"El número digitado no se encuentra en el rango entre -5 y 5\")"
   ]
  },
  {
   "cell_type": "code",
   "execution_count": 32,
   "id": "e21e61b4",
   "metadata": {},
   "outputs": [
    {
     "name": "stdout",
     "output_type": "stream",
     "text": [
      "Escribe el número real: 5.000000000000000000000000001\n",
      "El número está en el rango entre -5 y 5\n"
     ]
    }
   ],
   "source": [
    "numero = float(input(\"Escribe el número real: \"))  # con float tenemos valores de frontera con posibles errores\n",
    "\n",
    "if numero >= -5 and numero <=5:\n",
    "    print(\"El número está en el rango entre -5 y 5\")\n",
    "else: \n",
    "    print(\"El número digitado no se encuentra en el rango entre -5 y 5\")"
   ]
  },
  {
   "cell_type": "markdown",
   "id": "96783c2c",
   "metadata": {},
   "source": [
    "*3. Escribe una secuencia de instrucciones que permitan leer las coordenadas de un punto (x, y) e \n",
    "indique en cuál de los cuatro cuadrantes se encuentra dicho punto.*\n",
    "\n",
    "**i.   Si x = 0, deberás indicar que el punto se encuentra sobre el eje vertical.**\n",
    "\n",
    "**ii.  Si y = 0, deberás indicar que el punto se encuentra sobre el eje horizontal.**\n",
    "\n",
    "**iii. Si tanto x = 0 como y = 0, entonces deberás indicar que el punto se trata del origen de coordenadas.**"
   ]
  },
  {
   "cell_type": "code",
   "execution_count": 107,
   "id": "db8df51c",
   "metadata": {},
   "outputs": [
    {
     "name": "stdout",
     "output_type": "stream",
     "text": [
      "Digite el punto x: 4\n",
      "Digite el punto y: -inf\n",
      "El punto es ( 4.0 , -inf )\n",
      "El punto se encuentra en el cuarto cuadrante\n"
     ]
    }
   ],
   "source": [
    "# Digitación de número \n",
    "\n",
    "x = float(input(\"Digite el punto x: \"))\n",
    "y = float(input(\"Digite el punto y: \"))\n",
    "print('El punto es', \"(\",x,\",\",y,\")\")\n",
    "\n",
    "\n",
    "# Funcionalidad sobre el punto \n",
    "\n",
    "   \n",
    "# Funcionalidad\n",
    "\n",
    "if x > 0 and y > 0:\n",
    "    \n",
    "    print(\"El punto se encuentra en el primer cuadrante\")\n",
    "\n",
    "elif x < 0 and y > 0:\n",
    "    \n",
    "    print(\"El punto se encuentra en el segundo cuadrante\")\n",
    "\n",
    "elif x < 0 and y < 0:\n",
    "    \n",
    "    print(\"El punto se encuentra en el tercer cuadrante\")\n",
    "\n",
    "elif x > 0 and y <0:\n",
    "    \n",
    "    print(\"El punto se encuentra en el cuarto cuadrante\")\n",
    "\n",
    "elif x == 0 and y != 0:\n",
    "        \n",
    "    print(\"El punto se encuentra sobre el eje vertical\")\n",
    "\n",
    "elif y == 0 and x != 0:\n",
    "    print(\"El punto se encuentra sobre el eje horizontal\")\n",
    "\n",
    "else:    \n",
    "    print(\"El punto se encuentra sobre el origen\")\n",
    "\n",
    "\n",
    "\n",
    "    \n"
   ]
  },
  {
   "cell_type": "markdown",
   "id": "41cfd638",
   "metadata": {},
   "source": [
    "*4. Escribe una secuencia de instrucciones que permitan leer dos números enteros y muestre el cociente de la división entera y el resto de la división entera.*"
   ]
  },
  {
   "cell_type": "code",
   "execution_count": 109,
   "id": "06d24854",
   "metadata": {},
   "outputs": [
    {
     "name": "stdout",
     "output_type": "stream",
     "text": [
      "Ingrese el primer número entero (o dividendo)= 147\n",
      "Ingrese el segundo número entero (o divisor) = 8\n",
      "El cociente de la división entero es igual a  18 y el resto corresponde a  3\n"
     ]
    }
   ],
   "source": [
    "a = int(input(\"Ingrese el primer número entero (o dividendo)= \"))\n",
    "b = int(input(\"Ingrese el segundo número entero (o divisor) = \"))\n",
    "\n",
    "print(\"El cociente de la división entero es igual a \", a//b, \"y el resto corresponde a \", a%b)"
   ]
  },
  {
   "cell_type": "markdown",
   "id": "9e298aa8",
   "metadata": {},
   "source": [
    "*5. Escribe una secuencia de instrucciones que permitan leer un número entero y determinar si es cuadrado perfecto o no\n",
    "(piensa la mejor forma de hacerlo con lo que has aprendido hasta ahora).*"
   ]
  },
  {
   "cell_type": "code",
   "execution_count": 139,
   "id": "f7b93a61",
   "metadata": {},
   "outputs": [
    {
     "name": "stdout",
     "output_type": "stream",
     "text": [
      "Digite un número positivo : 225\n",
      "El número 225  es un cuadrado perfecto\n"
     ]
    }
   ],
   "source": [
    "# Un cuadrado perfecto o un número cuadrado perfecto es un número natural\n",
    "# que, si tiene raíz, da como resultado otro número natural.\n",
    "\n",
    "\n",
    "numero = int(input(\"Digite un número positivo : \"))\n",
    "\n",
    "x = math.sqrt(numero) \n",
    "if x >= 1 and x%1== 0 :\n",
    "    print(\"El número\", numero, \" es un cuadrado perfecto\")\n",
    "else:\n",
    "    print(\"El número\", numero, \" no es un cuadrado perfecto\")\n",
    "\n",
    "\n"
   ]
  },
  {
   "cell_type": "markdown",
   "id": "0fdd974b",
   "metadata": {},
   "source": [
    "*6. Escribe una expresión que permita determinar si un número entero positivo puede corresponder a un año bisiesto o no. Se consideran años bisiestos aquellos cuyo número es divisible por cuatro excepto los años que son múltiplos de 100, a no ser que lo sean de 400 (por ejemplo el año 2000 fue bisiesto pero el 2100 no lo será).*"
   ]
  },
  {
   "cell_type": "code",
   "execution_count": 186,
   "id": "5c9f796b",
   "metadata": {},
   "outputs": [
    {
     "name": "stdout",
     "output_type": "stream",
     "text": [
      "Escribe el número del año :2000\n",
      "Es un año bisiesto\n"
     ]
    }
   ],
   "source": [
    "numero = int(input(\"Escribe el número del año :\"))\n",
    "\n",
    "\n",
    "# Un año que es divisible por 100\n",
    "\n",
    "a = numero % 4\n",
    "b = numero % 100\n",
    "c = numero % 400\n",
    "\n",
    "if a == 0:\n",
    "    # print(\" Es divisible por 4\")\n",
    "    if b==0:\n",
    "        # print(\"El año es divisible por 100\")\n",
    "        if c == 0:\n",
    "            print(\"Es un año bisiesto\")\n",
    "        else:\n",
    "            print(\"No es bisiesto\")    \n",
    "    else:\n",
    "        print(\"El año es bisiesto\")\n",
    "else:\n",
    "    print(\"No es un año bisiesto\")\n",
    "\n",
    "    \n",
    "\n"
   ]
  },
  {
   "cell_type": "markdown",
   "id": "c48ff522",
   "metadata": {},
   "source": [
    "*7. Busca la imagen de un tablero de ajedrez en Google y fíjate en la nomenclatura de las casillas. \n",
    "Escribe una secuencia que lea una letra y un número de teclado correspondiente a una casilla de un tablero de ajedrez y que indique si esta casilla es negra o blanca.*"
   ]
  },
  {
   "cell_type": "code",
   "execution_count": 240,
   "id": "45978e4e",
   "metadata": {},
   "outputs": [
    {
     "name": "stdout",
     "output_type": "stream",
     "text": [
      "ingrese coordenada de la abcisa del tablero, es decir una letra de la 'a al h': b\n",
      "ingrese coordenada de la ordenada del tablero, es decir un número del '1 al 8': 5\n",
      "La casilla es Negra\n"
     ]
    }
   ],
   "source": [
    "# Guardar todas las combinaciones posibles \n",
    "import itertools\n",
    "data_casillas_impares_negras = [(1,3,5,7), ('b','d','f','h'), ('N')]\n",
    "data_casillas_impares_negras = list(itertools.product(*data_casillas_impares_negras))  # creamos la lista con todos las casillas\n",
    "\n",
    "data_casillas_impares_negras_list = [(1,3,5,7), ('b','d','f','h')]\n",
    "data_casillas_impares_negras_list = list(itertools.product(*data_casillas_impares_negras_list))  # creamos la lista con todos las casillas\n",
    "\n",
    "\n",
    "\n",
    "\n",
    "data_casillas_impares_blancas = [(1,3,5,7), ('a','c','e','g'), 'B']\n",
    "data_casillas_impares_blancas = list(itertools.product(*data_casillas_impares_blancas))\n",
    "data_casillas_impares_blancas_list = [(1,3,5,7), ('a','c','e','g')]\n",
    "data_casillas_impares_blancas_list = list(itertools.product(*data_casillas_impares_blancas_list))\n",
    "\n",
    "\n",
    "\n",
    "data_casillas_pares_blancas = [(2,4,6,8), ('b','d','f','h'), 'B']\n",
    "data_casillas_pares_blancas = list(itertools.product(*data_casillas_pares_blancas))\n",
    "data_casillas_pares_blancas_list = [(2,4,6,8), ('b','d','f','h')]\n",
    "data_casillas_pares_blancas_list = list(itertools.product(*data_casillas_pares_blancas_list))\n",
    "\n",
    "\n",
    "\n",
    "\n",
    "data_casillas_pares_negra = [(2,4,6,8), ('a','c','e','g'), 'N']\n",
    "data_casillas_pares_negra = list(itertools.product(*data_casillas_pares_negra))\n",
    "data_casillas_pares_negra_list = [(2,4,6,8), ('a','c','e','g')]\n",
    "data_casillas_pares_negra_list = list(itertools.product(*data_casillas_pares_negra_list))\n",
    "\n",
    "\n",
    "# creamos la lista con todos las casillas con color\n",
    "\n",
    "d = data_casillas_pares_blancas + data_casillas_impares_blancas + data_casillas_pares_negra + data_casillas_impares_negras\n",
    "\n",
    "#creamos la lista con todas las casillas sin color\n",
    "d_list = data_casillas_pares_blancas_list + data_casillas_impares_blancas_list + data_casillas_pares_negra_list + data_casillas_impares_negras_list\n",
    "\n",
    "\n",
    "ab = input(\"ingrese coordenada de la abcisa del tablero, es decir una letra de la 'a al h': \")\n",
    "ord = int(input(\"ingrese coordenada de la ordenada del tablero, es decir un número del '1 al 8': \"))\n",
    "\n",
    "index = d_list.index((ord, ab)) \n",
    "\n",
    "if d[index][2] == 'B':\n",
    "    print(\"La casilla es Blanca\")\n",
    "else:\n",
    "    print(\"La casilla es Negra\")\n",
    "\n"
   ]
  },
  {
   "cell_type": "code",
   "execution_count": 256,
   "id": "18159a8a",
   "metadata": {},
   "outputs": [
    {
     "name": "stdout",
     "output_type": "stream",
     "text": [
      "Introduce la Casilla (ej: A1): A2\n",
      "Blanco\n"
     ]
    }
   ],
   "source": [
    "entrada = input(\"Introduce la Casilla (ej: A1): \")\n",
    "letras = {\"A\": 1, \"B\": 2, \"C\": 3, \"D\": 4, \"E\": 5, \"F\": 6, \"G\": 7, \"H\": 8}\n",
    "letra = entrada[0]\n",
    "numero1 = int(entrada[1])\n",
    "numero2 = letras[letra]\n",
    "if (numero1 + numero2) % 2 == 0:\n",
    "    print(\"Negro\")\n",
    "else:\n",
    "    print(\"Blanco\")\n",
    "   \n",
    "    \n",
    "    "
   ]
  },
  {
   "cell_type": "code",
   "execution_count": 255,
   "id": "0b7b1198",
   "metadata": {},
   "outputs": [
    {
     "name": "stdout",
     "output_type": "stream",
     "text": [
      "Introduce la Casilla (ej: A1): A4\n"
     ]
    },
    {
     "data": {
      "text/plain": [
       "1"
      ]
     },
     "execution_count": 255,
     "metadata": {},
     "output_type": "execute_result"
    }
   ],
   "source": [
    "entrada = input(\"Introduce la Casilla (ej: A1): \")\n",
    "letras = {\"A\": 1, \"B\": 2, \"C\": 3, \"D\": 4, \"E\": 5, \"F\": 6, \"G\": 7, \"H\": 8}\n",
    "letra = entrada[0]\n",
    "numero2 = letras[letra]\n",
    "numero2"
   ]
  },
  {
   "cell_type": "code",
   "execution_count": 247,
   "id": "361bf1ee",
   "metadata": {},
   "outputs": [
    {
     "ename": "NameError",
     "evalue": "name 'A' is not defined",
     "output_type": "error",
     "traceback": [
      "\u001b[1;31m---------------------------------------------------------------------------\u001b[0m",
      "\u001b[1;31mNameError\u001b[0m                                 Traceback (most recent call last)",
      "\u001b[1;32m<ipython-input-247-58eec9f89b6c>\u001b[0m in \u001b[0;36m<module>\u001b[1;34m\u001b[0m\n\u001b[0;32m      1\u001b[0m \u001b[0mletras\u001b[0m \u001b[1;33m=\u001b[0m \u001b[1;33m{\u001b[0m\u001b[1;34m\"A\"\u001b[0m\u001b[1;33m:\u001b[0m \u001b[1;36m1\u001b[0m\u001b[1;33m,\u001b[0m \u001b[1;34m\"B\"\u001b[0m\u001b[1;33m:\u001b[0m \u001b[1;36m2\u001b[0m\u001b[1;33m,\u001b[0m \u001b[1;34m\"C\"\u001b[0m\u001b[1;33m:\u001b[0m \u001b[1;36m3\u001b[0m\u001b[1;33m,\u001b[0m \u001b[1;34m\"D\"\u001b[0m\u001b[1;33m:\u001b[0m \u001b[1;36m4\u001b[0m\u001b[1;33m,\u001b[0m \u001b[1;34m\"E\"\u001b[0m\u001b[1;33m:\u001b[0m \u001b[1;36m5\u001b[0m\u001b[1;33m,\u001b[0m \u001b[1;34m\"F\"\u001b[0m\u001b[1;33m:\u001b[0m \u001b[1;36m6\u001b[0m\u001b[1;33m,\u001b[0m \u001b[1;34m\"G\"\u001b[0m\u001b[1;33m:\u001b[0m \u001b[1;36m7\u001b[0m\u001b[1;33m,\u001b[0m \u001b[1;34m\"H\"\u001b[0m\u001b[1;33m:\u001b[0m \u001b[1;36m8\u001b[0m\u001b[1;33m}\u001b[0m\u001b[1;33m\u001b[0m\u001b[1;33m\u001b[0m\u001b[0m\n\u001b[0;32m      2\u001b[0m \u001b[0mletras\u001b[0m\u001b[1;33m\u001b[0m\u001b[1;33m\u001b[0m\u001b[0m\n\u001b[1;32m----> 3\u001b[1;33m \u001b[0mletras\u001b[0m\u001b[1;33m[\u001b[0m\u001b[0mA\u001b[0m\u001b[1;33m]\u001b[0m\u001b[1;33m\u001b[0m\u001b[1;33m\u001b[0m\u001b[0m\n\u001b[0m",
      "\u001b[1;31mNameError\u001b[0m: name 'A' is not defined"
     ]
    }
   ],
   "source": [
    "letras = {\"A\": 1, \"B\": 2, \"C\": 3, \"D\": 4, \"E\": 5, \"F\": 6, \"G\": 7, \"H\": 8}\n",
    "letras\n",
    "letras[A]"
   ]
  },
  {
   "cell_type": "code",
   "execution_count": 260,
   "id": "2b76a523",
   "metadata": {},
   "outputs": [
    {
     "name": "stdout",
     "output_type": "stream",
     "text": [
      " :558\n"
     ]
    },
    {
     "data": {
      "text/plain": [
       "'5'"
      ]
     },
     "execution_count": 260,
     "metadata": {},
     "output_type": "execute_result"
    }
   ],
   "source": [
    "x = input(\" :\")\n",
    "x[0]"
   ]
  }
 ],
 "metadata": {
  "celltoolbar": "Raw Cell Format",
  "kernelspec": {
   "display_name": "Python 3",
   "language": "python",
   "name": "python3"
  },
  "language_info": {
   "codemirror_mode": {
    "name": "ipython",
    "version": 3
   },
   "file_extension": ".py",
   "mimetype": "text/x-python",
   "name": "python",
   "nbconvert_exporter": "python",
   "pygments_lexer": "ipython3",
   "version": "3.8.8"
  }
 },
 "nbformat": 4,
 "nbformat_minor": 5
}
