{
 "cells": [
  {
   "cell_type": "markdown",
   "id": "55153bd8",
   "metadata": {},
   "source": [
    "# Tarea 1-Python"
   ]
  },
  {
   "cell_type": "markdown",
   "id": "b77099be",
   "metadata": {},
   "source": [
    "*1. Escribe una secuencia de instrucciones que permitan leer un número real por pantalla y que muestre si el número es positivo o no.*"
   ]
  },
  {
   "cell_type": "code",
   "execution_count": 17,
   "id": "3a21ce72",
   "metadata": {},
   "outputs": [
    {
     "name": "stdout",
     "output_type": "stream",
     "text": [
      "Escribe tú número real: 0\n",
      "El número digitado es cero\n"
     ]
    }
   ],
   "source": [
    "numero = int(input(\"Escribe tú número real: \"))\n",
    "\n",
    "if numero > 0 :\n",
    "        print(\"El número digitado es positivo\")\n",
    "\n",
    "elif numero < 0 :\n",
    "        print(\"El número digitado es negativo\")\n",
    "    \n",
    "else:\n",
    "        \n",
    "        print(\"El número digitado es cero\")"
   ]
  },
  {
   "cell_type": "markdown",
   "id": "b0e4c57b",
   "metadata": {},
   "source": [
    "*2. Escribe una secuencia de instrucciones que permitan leer un número real por pantalla y que muestre si el número está en el rango entre -5 y 5, ambos incluidos.*"
   ]
  },
  {
   "cell_type": "code",
   "execution_count": 30,
   "id": "0d13e2e1",
   "metadata": {},
   "outputs": [
    {
     "name": "stdout",
     "output_type": "stream",
     "text": [
      "Escribe el número real: 5.000000000000000000000000001\n",
      "El número digitado no se encuentra en el rango entre -5 y 5\n"
     ]
    }
   ],
   "source": [
    "from decimal import Decimal as D            # para leer valores en la frontera\n",
    "\n",
    "numero = D(input(\"Escribe el número real: \"))\n",
    "\n",
    "if numero >= -5 and numero <=5:\n",
    "    print(\"El número está en el rango entre -5 y 5\")\n",
    "else: \n",
    "    print(\"El número digitado no se encuentra en el rango entre -5 y 5\")"
   ]
  },
  {
   "cell_type": "code",
   "execution_count": 32,
   "id": "e21e61b4",
   "metadata": {},
   "outputs": [
    {
     "name": "stdout",
     "output_type": "stream",
     "text": [
      "Escribe el número real: 5.000000000000000000000000001\n",
      "El número está en el rango entre -5 y 5\n"
     ]
    }
   ],
   "source": [
    "numero = float(input(\"Escribe el número real: \"))  # con float tenemos valores de frontera con posibles errores\n",
    "\n",
    "if numero >= -5 and numero <=5:\n",
    "    print(\"El número está en el rango entre -5 y 5\")\n",
    "else: \n",
    "    print(\"El número digitado no se encuentra en el rango entre -5 y 5\")"
   ]
  },
  {
   "cell_type": "markdown",
   "id": "96783c2c",
   "metadata": {},
   "source": [
    "*3. Escribe una secuencia de instrucciones que permitan leer las coordenadas de un punto (x, y) e \n",
    "indique en cuál de los cuatro cuadrantes se encuentra dicho punto.*\n",
    "\n",
    "**i.   Si x = 0, deberás indicar que el punto se encuentra sobre el eje vertical.**\n",
    "\n",
    "**ii.  Si y = 0, deberás indicar que el punto se encuentra sobre el eje horizontal.**\n",
    "\n",
    "**iii. Si tanto x = 0 como y = 0, entonces deberás indicar que el punto se trata del origen de coordenadas.**"
   ]
  },
  {
   "cell_type": "code",
   "execution_count": 107,
   "id": "db8df51c",
   "metadata": {},
   "outputs": [
    {
     "name": "stdout",
     "output_type": "stream",
     "text": [
      "Digite el punto x: 4\n",
      "Digite el punto y: -inf\n",
      "El punto es ( 4.0 , -inf )\n",
      "El punto se encuentra en el cuarto cuadrante\n"
     ]
    }
   ],
   "source": [
    "# Digitación de número \n",
    "\n",
    "x = float(input(\"Digite el punto x: \"))\n",
    "y = float(input(\"Digite el punto y: \"))\n",
    "print('El punto es', \"(\",x,\",\",y,\")\")\n",
    "\n",
    "\n",
    "# Funcionalidad sobre el punto \n",
    "\n",
    "   \n",
    "# Funcionalidad\n",
    "\n",
    "if x > 0 and y > 0:\n",
    "    \n",
    "    print(\"El punto se encuentra en el primer cuadrante\")\n",
    "\n",
    "elif x < 0 and y > 0:\n",
    "    \n",
    "    print(\"El punto se encuentra en el segundo cuadrante\")\n",
    "\n",
    "elif x < 0 and y < 0:\n",
    "    \n",
    "    print(\"El punto se encuentra en el tercer cuadrante\")\n",
    "\n",
    "elif x > 0 and y <0:\n",
    "    \n",
    "    print(\"El punto se encuentra en el cuarto cuadrante\")\n",
    "\n",
    "elif x == 0 and y != 0:\n",
    "        \n",
    "    print(\"El punto se encuentra sobre el eje vertical\")\n",
    "\n",
    "elif y == 0 and x != 0:\n",
    "    print(\"El punto se encuentra sobre el eje horizontal\")\n",
    "\n",
    "else:    \n",
    "    print(\"El punto se encuentra sobre el origen\")\n",
    "\n",
    "\n",
    "\n",
    "    \n"
   ]
  },
  {
   "cell_type": "markdown",
   "id": "41cfd638",
   "metadata": {},
   "source": [
    "*4. Escribe una secuencia de instrucciones que permitan leer dos números enteros y muestre el cociente de la división entera y el resto de la división entera.*"
   ]
  },
  {
   "cell_type": "code",
   "execution_count": 109,
   "id": "06d24854",
   "metadata": {},
   "outputs": [
    {
     "name": "stdout",
     "output_type": "stream",
     "text": [
      "Ingrese el primer número entero (o dividendo)= 147\n",
      "Ingrese el segundo número entero (o divisor) = 8\n",
      "El cociente de la división entero es igual a  18 y el resto corresponde a  3\n"
     ]
    }
   ],
   "source": [
    "a = int(input(\"Ingrese el primer número entero (o dividendo)= \"))\n",
    "b = int(input(\"Ingrese el segundo número entero (o divisor) = \"))\n",
    "\n",
    "print(\"El cociente de la división entero es igual a \", a//b, \"y el resto corresponde a \", a%b)"
   ]
  },
  {
   "cell_type": "markdown",
   "id": "9e298aa8",
   "metadata": {},
   "source": [
    "*5. Escribe una secuencia de instrucciones que permitan leer un número entero y determinar si es cuadrado perfecto o no\n",
    "(piensa la mejor forma de hacerlo con lo que has aprendido hasta ahora).*"
   ]
  },
  {
   "cell_type": "code",
   "execution_count": 139,
   "id": "f7b93a61",
   "metadata": {},
   "outputs": [
    {
     "name": "stdout",
     "output_type": "stream",
     "text": [
      "Digite un número positivo : 225\n",
      "El número 225  es un cuadrado perfecto\n"
     ]
    }
   ],
   "source": [
    "# Un cuadrado perfecto o un número cuadrado perfecto es un número natural\n",
    "# que, si tiene raíz, da como resultado otro número natural.\n",
    "\n",
    "\n",
    "numero = int(input(\"Digite un número positivo : \"))\n",
    "\n",
    "x = math.sqrt(numero) \n",
    "if x >= 1 and x%1== 0 :\n",
    "    print(\"El número\", numero, \" es un cuadrado perfecto\")\n",
    "else:\n",
    "    print(\"El número\", numero, \" no es un cuadrado perfecto\")\n",
    "\n",
    "\n"
   ]
  },
  {
   "cell_type": "markdown",
   "id": "0fdd974b",
   "metadata": {},
   "source": [
    "*6. Escribe una expresión que permita determinar si un número entero positivo puede corresponder a un año bisiesto o no. Se consideran años bisiestos aquellos cuyo número es divisible por cuatro excepto los años que son múltiplos de 100, a no ser que lo sean de 400 (por ejemplo el año 2000 fue bisiesto pero el 2100 no lo será).*"
   ]
  },
  {
   "cell_type": "code",
   "execution_count": 186,
   "id": "5c9f796b",
   "metadata": {},
   "outputs": [
    {
     "name": "stdout",
     "output_type": "stream",
     "text": [
      "Escribe el número del año :2000\n",
      "Es un año bisiesto\n"
     ]
    }
   ],
   "source": [
    "numero = int(input(\"Escribe el número del año :\"))\n",
    "\n",
    "\n",
    "# Un año que es divisible por 100\n",
    "\n",
    "a = numero % 4\n",
    "b = numero % 100\n",
    "c = numero % 400\n",
    "\n",
    "if a == 0:\n",
    "    # print(\" Es divisible por 4\")\n",
    "    if b==0:\n",
    "        # print(\"El año es divisible por 100\")\n",
    "        if c == 0:\n",
    "            print(\"Es un año bisiesto\")\n",
    "        else:\n",
    "            print(\"No es bisiesto\")    \n",
    "    else:\n",
    "        print(\"El año es bisiesto\")\n",
    "else:\n",
    "    print(\"No es un año bisiesto\")\n",
    "\n",
    "    \n",
    "\n"
   ]
  },
  {
   "cell_type": "markdown",
   "id": "c48ff522",
   "metadata": {},
   "source": [
    "*7. Busca la imagen de un tablero de ajedrez en Google y fíjate en la nomenclatura de las casillas. \n",
    "Escribe una secuencia que lea una letra y un número de teclado correspondiente a una casilla de un tablero de ajedrez y que indique si esta casilla es negra o blanca.*"
   ]
  },
  {
   "cell_type": "code",
   "execution_count": null,
   "id": "e28fcefb",
   "metadata": {},
   "outputs": [],
   "source": []
  },
  {
   "cell_type": "code",
   "execution_count": 18,
   "id": "45978e4e",
   "metadata": {},
   "outputs": [],
   "source": [
    "# Guardar todas las combinaciones posibles \n",
    "import itertools\n",
    "data_casillas = [[1,2,3,4,5,6,7,8], ['a','b','c','d','e','f','g','h']]\n",
    "\n",
    "casillas = list(itertools.product(*data_casillas))  # creamos la lista con todos las casillas\n",
    "\n",
    "# Ahora hay que indicar casillas negras y blancas\n",
    "\n",
    "\n"
   ]
  }
 ],
 "metadata": {
  "celltoolbar": "Raw Cell Format",
  "kernelspec": {
   "display_name": "Python 3",
   "language": "python",
   "name": "python3"
  },
  "language_info": {
   "codemirror_mode": {
    "name": "ipython",
    "version": 3
   },
   "file_extension": ".py",
   "mimetype": "text/x-python",
   "name": "python",
   "nbconvert_exporter": "python",
   "pygments_lexer": "ipython3",
   "version": "3.8.8"
  }
 },
 "nbformat": 4,
 "nbformat_minor": 5
}
