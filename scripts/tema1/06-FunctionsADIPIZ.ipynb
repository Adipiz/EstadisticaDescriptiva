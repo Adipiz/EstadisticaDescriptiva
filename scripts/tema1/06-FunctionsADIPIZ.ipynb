{
 "cells": [
  {
   "cell_type": "markdown",
   "id": "c3192b8e",
   "metadata": {},
   "source": [
    "# Funciones en Python"
   ]
  },
  {
   "cell_type": "code",
   "execution_count": 5,
   "id": "154f8cdc",
   "metadata": {},
   "outputs": [],
   "source": [
    "def suma(x,y):                       # definimos la función suma\n",
    "    return x+y                       # hay que preservar el tabulador, no lleva paréntesis\n",
    "                                     # Este es un ejemplo de la función suma. "
   ]
  },
  {
   "cell_type": "code",
   "execution_count": 3,
   "id": "83f9c5a4",
   "metadata": {},
   "outputs": [],
   "source": [
    "                                     # ahora si la quiero declarar como método debo de asignarlas a una clase\n",
    "class Operaciones(object):           # Creamos la clase 'Operaciones' y dentro de un paréntesis ponemos 'object'\n",
    "    def suma(self, x,y):             # ahora, definimos el \"método de suma para la clase 'operaciones'\" .Ponemos self(siempre se pone primero) y los objetos del método\n",
    "        self.resultado = x+y         # definimos la variable resultado que depende de self\n",
    "        return self.resultado        # quién se ha quedado con la operación"
   ]
  },
  {
   "cell_type": "code",
   "execution_count": 7,
   "id": "75b61479",
   "metadata": {},
   "outputs": [
    {
     "data": {
      "text/plain": [
       "24"
      ]
     },
     "execution_count": 7,
     "metadata": {},
     "output_type": "execute_result"
    }
   ],
   "source": [
    "suma(5,19)                           # invocar la definición d ela función 'suma'. Esta es más genérica"
   ]
  },
  {
   "cell_type": "code",
   "execution_count": 9,
   "id": "94c3e0a7",
   "metadata": {},
   "outputs": [
    {
     "data": {
      "text/plain": [
       "7"
      ]
     },
     "execution_count": 9,
     "metadata": {},
     "output_type": "execute_result"
    }
   ],
   "source": [
    "operInstance = Operaciones()     # método suma, creamos una instancia, ahora puedo acceder al método de esa clase\n",
    "operInstance.suma(3,4)\n",
    "\n"
   ]
  },
  {
   "cell_type": "code",
   "execution_count": 23,
   "id": "a6767f98",
   "metadata": {},
   "outputs": [],
   "source": [
    "def saludar():\n",
    "    name = str(input(\"Introduce tu nombre \"))\n",
    "    if name:\n",
    "        print(\"Hola, \"+name)\n",
    "    else:\n",
    "        print(\"Hola, estoy programando!\")\n",
    " "
   ]
  },
  {
   "cell_type": "code",
   "execution_count": 18,
   "id": "e68c8777",
   "metadata": {},
   "outputs": [
    {
     "name": "stdout",
     "output_type": "stream",
     "text": [
      "Hola, estoy programando!\n"
     ]
    }
   ],
   "source": [
    "saludar()"
   ]
  },
  {
   "cell_type": "code",
   "execution_count": 24,
   "id": "ae87d216",
   "metadata": {},
   "outputs": [
    {
     "name": "stdout",
     "output_type": "stream",
     "text": [
      "Introduce tu nombre kl\n",
      "Hola, kl\n"
     ]
    }
   ],
   "source": [
    "saludar()"
   ]
  },
  {
   "cell_type": "code",
   "execution_count": 26,
   "id": "a00d03b3",
   "metadata": {},
   "outputs": [
    {
     "data": {
      "text/plain": [
       "12"
      ]
     },
     "execution_count": 26,
     "metadata": {},
     "output_type": "execute_result"
    }
   ],
   "source": [
    "suma(2,5) + 5 # return, permikte la expresión de un valor y la consecuente operación"
   ]
  },
  {
   "cell_type": "code",
   "execution_count": 33,
   "id": "f98db403",
   "metadata": {},
   "outputs": [],
   "source": [
    "def buscaPares():\n",
    "    for x in range(10):\n",
    "        if x % 2 == 0:\n",
    "            return\n",
    "        print(\"fin de la ejecución\")"
   ]
  },
  {
   "cell_type": "code",
   "execution_count": 38,
   "id": "3fd2d4dd",
   "metadata": {},
   "outputs": [],
   "source": [
    "def sumaresta(x,y = 0):   # en caso de no pomer el valor y le asigno un número\n",
    "    suma = x + y\n",
    "    resta = x - y\n",
    "    return (suma, resta)   # dos valores de retorno en paréntesis pero es opcional (el paréntesis)"
   ]
  },
  {
   "cell_type": "code",
   "execution_count": 37,
   "id": "8baf6570",
   "metadata": {},
   "outputs": [
    {
     "data": {
      "text/plain": [
       "(5, 1)"
      ]
     },
     "execution_count": 37,
     "metadata": {},
     "output_type": "execute_result"
    }
   ],
   "source": [
    "sumaresta(y = 2, x = 3)"
   ]
  },
  {
   "cell_type": "code",
   "execution_count": 39,
   "id": "a75c909d",
   "metadata": {},
   "outputs": [
    {
     "data": {
      "text/plain": [
       "(1, 1)"
      ]
     },
     "execution_count": 39,
     "metadata": {},
     "output_type": "execute_result"
    }
   ],
   "source": [
    "sumaresta(1) # demos cuando y = 0 por defecto"
   ]
  },
  {
   "cell_type": "code",
   "execution_count": 41,
   "id": "fbfc31bb",
   "metadata": {},
   "outputs": [],
   "source": [
    "def suma(*args): # args significa argumento de longitud variable\n",
    "    return sum(args) # función sum() nativa de python\n",
    "    \n",
    "    "
   ]
  },
  {
   "cell_type": "code",
   "execution_count": 43,
   "id": "a073784b",
   "metadata": {},
   "outputs": [
    {
     "data": {
      "text/plain": [
       "21"
      ]
     },
     "execution_count": 43,
     "metadata": {},
     "output_type": "execute_result"
    }
   ],
   "source": [
    "suma(1,2,3,4,5,6) # suma de elementos "
   ]
  },
  {
   "cell_type": "code",
   "execution_count": 45,
   "id": "d4550820",
   "metadata": {},
   "outputs": [
    {
     "data": {
      "text/plain": [
       "138.5"
      ]
     },
     "execution_count": 45,
     "metadata": {},
     "output_type": "execute_result"
    }
   ],
   "source": [
    "suma(1,2,3,4,5,6,7,110.5)"
   ]
  },
  {
   "cell_type": "code",
   "execution_count": 46,
   "id": "ee5e812b",
   "metadata": {},
   "outputs": [],
   "source": [
    "def sumcuadrados(*datos):\n",
    "    total = 0    # inicializa la suma en 0\n",
    "    for d in datos:\n",
    "        total = total + d**2\n",
    "        \n",
    "    return total "
   ]
  },
  {
   "cell_type": "code",
   "execution_count": 47,
   "id": "b4a55781",
   "metadata": {},
   "outputs": [
    {
     "data": {
      "text/plain": [
       "54"
      ]
     },
     "execution_count": 47,
     "metadata": {},
     "output_type": "execute_result"
    }
   ],
   "source": [
    "sumcuadrados(2,5,5)"
   ]
  },
  {
   "cell_type": "code",
   "execution_count": 49,
   "id": "258b0e9d",
   "metadata": {},
   "outputs": [
    {
     "data": {
      "text/plain": [
       "262.9489"
      ]
     },
     "execution_count": 49,
     "metadata": {},
     "output_type": "execute_result"
    }
   ],
   "source": [
    "sumcuadrados(2.5, 3.6, 8.9, -2, 12.67)"
   ]
  },
  {
   "cell_type": "code",
   "execution_count": 50,
   "id": "22ee2b3c",
   "metadata": {},
   "outputs": [
    {
     "ename": "NameError",
     "evalue": "name 'total' is not defined",
     "output_type": "error",
     "traceback": [
      "\u001b[1;31m---------------------------------------------------------------------------\u001b[0m",
      "\u001b[1;31mNameError\u001b[0m                                 Traceback (most recent call last)",
      "\u001b[1;32m<ipython-input-50-f5f7acea0338>\u001b[0m in \u001b[0;36m<module>\u001b[1;34m\u001b[0m\n\u001b[1;32m----> 1\u001b[1;33m \u001b[0mtotal\u001b[0m\u001b[1;33m\u001b[0m\u001b[1;33m\u001b[0m\u001b[0m\n\u001b[0m",
      "\u001b[1;31mNameError\u001b[0m: name 'total' is not defined"
     ]
    }
   ],
   "source": [
    "total # esta variable no puede encontrarse  ya que se encuentra en el cuerpo de la función 'sumcuadrados'"
   ]
  },
  {
   "cell_type": "markdown",
   "id": "8387681c",
   "metadata": {},
   "source": [
    "# Funciones anónimas"
   ]
  },
  {
   "cell_type": "code",
   "execution_count": null,
   "id": "f1fc476d",
   "metadata": {},
   "outputs": [],
   "source": [
    "# son funciones que no necesitan declararse con la palabra reservada 'def', comienzan con la palabra lambda"
   ]
  },
  {
   "cell_type": "code",
   "execution_count": 51,
   "id": "31f24233",
   "metadata": {},
   "outputs": [],
   "source": [
    "doble = lambda x: x*2"
   ]
  },
  {
   "cell_type": "code",
   "execution_count": 52,
   "id": "1bc8f09b",
   "metadata": {},
   "outputs": [
    {
     "data": {
      "text/plain": [
       "8"
      ]
     },
     "execution_count": 52,
     "metadata": {},
     "output_type": "execute_result"
    }
   ],
   "source": [
    "doble(4)"
   ]
  },
  {
   "cell_type": "code",
   "execution_count": 55,
   "id": "ec51b241",
   "metadata": {},
   "outputs": [],
   "source": [
    "cuadrado = lambda x: x**2"
   ]
  },
  {
   "cell_type": "code",
   "execution_count": 56,
   "id": "6f2095b1",
   "metadata": {},
   "outputs": [
    {
     "data": {
      "text/plain": [
       "25"
      ]
     },
     "execution_count": 56,
     "metadata": {},
     "output_type": "execute_result"
    }
   ],
   "source": [
    "cuadrado(5)"
   ]
  },
  {
   "cell_type": "code",
   "execution_count": 58,
   "id": "83566be9",
   "metadata": {},
   "outputs": [],
   "source": [
    "suma = lambda x, y : x + y"
   ]
  },
  {
   "cell_type": "code",
   "execution_count": 59,
   "id": "8db1d885",
   "metadata": {},
   "outputs": [
    {
     "data": {
      "text/plain": [
       "8"
      ]
     },
     "execution_count": 59,
     "metadata": {},
     "output_type": "execute_result"
    }
   ],
   "source": [
    "suma(2,6)"
   ]
  },
  {
   "cell_type": "code",
   "execution_count": null,
   "id": "470fda72",
   "metadata": {},
   "outputs": [],
   "source": [
    "# Para qué existen, filtración de datos para resumen de datos. ellas requieren de una librería"
   ]
  },
  {
   "cell_type": "code",
   "execution_count": 60,
   "id": "f4b33195",
   "metadata": {},
   "outputs": [],
   "source": [
    "from functools import reduce"
   ]
  },
  {
   "cell_type": "code",
   "execution_count": 61,
   "id": "166ecd0d",
   "metadata": {},
   "outputs": [],
   "source": [
    "data  = [1,2,3,4,5,6,7,8,9,10]"
   ]
  },
  {
   "cell_type": "code",
   "execution_count": 62,
   "id": "4467e74e",
   "metadata": {},
   "outputs": [],
   "source": [
    "filtered_data = list(filter(lambda x: (x*2>8), data))"
   ]
  },
  {
   "cell_type": "code",
   "execution_count": 63,
   "id": "8ae85c08",
   "metadata": {},
   "outputs": [
    {
     "data": {
      "text/plain": [
       "[5, 6, 7, 8, 9, 10]"
      ]
     },
     "execution_count": 63,
     "metadata": {},
     "output_type": "execute_result"
    }
   ],
   "source": [
    "filtered_data"
   ]
  },
  {
   "cell_type": "code",
   "execution_count": 64,
   "id": "f5b3e7b1",
   "metadata": {},
   "outputs": [],
   "source": [
    "mapped_data = list(map(lambda x: x*2, data))   # transformación de 'data' con map"
   ]
  },
  {
   "cell_type": "code",
   "execution_count": 65,
   "id": "46b1ffa2",
   "metadata": {},
   "outputs": [
    {
     "data": {
      "text/plain": [
       "[2, 4, 6, 8, 10, 12, 14, 16, 18, 20]"
      ]
     },
     "execution_count": 65,
     "metadata": {},
     "output_type": "execute_result"
    }
   ],
   "source": [
    "mapped_data"
   ]
  },
  {
   "cell_type": "code",
   "execution_count": 66,
   "id": "6d38208f",
   "metadata": {},
   "outputs": [],
   "source": [
    "reduced_data = reduce(lambda x,y: x + y,data) # reduce la info operando de forma sucesiva"
   ]
  },
  {
   "cell_type": "code",
   "execution_count": 67,
   "id": "6ad8138d",
   "metadata": {},
   "outputs": [
    {
     "data": {
      "text/plain": [
       "55"
      ]
     },
     "execution_count": 67,
     "metadata": {},
     "output_type": "execute_result"
    }
   ],
   "source": [
    "reduced_data"
   ]
  }
 ],
 "metadata": {
  "kernelspec": {
   "display_name": "Python 3",
   "language": "python",
   "name": "python3"
  },
  "language_info": {
   "codemirror_mode": {
    "name": "ipython",
    "version": 3
   },
   "file_extension": ".py",
   "mimetype": "text/x-python",
   "name": "python",
   "nbconvert_exporter": "python",
   "pygments_lexer": "ipython3",
   "version": "3.8.8"
  }
 },
 "nbformat": 4,
 "nbformat_minor": 5
}
