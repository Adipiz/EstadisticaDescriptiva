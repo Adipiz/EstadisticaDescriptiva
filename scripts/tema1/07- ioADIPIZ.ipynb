{
 "cells": [
  {
   "cell_type": "markdown",
   "id": "d9adb411",
   "metadata": {},
   "source": [
    "# Entrada y salida de datos"
   ]
  },
  {
   "cell_type": "code",
   "execution_count": 1,
   "id": "8454f365",
   "metadata": {},
   "outputs": [
    {
     "name": "stdout",
     "output_type": "stream",
     "text": [
      "Hola Mundo\n"
     ]
    }
   ],
   "source": [
    "print('Hola Mundo')"
   ]
  },
  {
   "cell_type": "code",
   "execution_count": 3,
   "id": "d6cec49d",
   "metadata": {},
   "outputs": [
    {
     "name": "stdout",
     "output_type": "stream",
     "text": [
      "5\n"
     ]
    }
   ],
   "source": [
    "x = 5\n",
    "print(x)"
   ]
  },
  {
   "cell_type": "code",
   "execution_count": 5,
   "id": "f40c40b5",
   "metadata": {},
   "outputs": [
    {
     "name": "stdout",
     "output_type": "stream",
     "text": [
      "el valor de la variabl x es : 5\n"
     ]
    }
   ],
   "source": [
    "print('el valor de la variabl x es : ' +str(x))"
   ]
  },
  {
   "cell_type": "code",
   "execution_count": 8,
   "id": "37197b3f",
   "metadata": {},
   "outputs": [
    {
     "name": "stdout",
     "output_type": "stream",
     "text": [
      "introduce tu nombre Adipiz\n"
     ]
    }
   ],
   "source": [
    "texto = input('introduce tu nombre ')"
   ]
  },
  {
   "cell_type": "code",
   "execution_count": 11,
   "id": "a475567f",
   "metadata": {},
   "outputs": [
    {
     "data": {
      "text/plain": [
       "'Adipiz'"
      ]
     },
     "execution_count": 11,
     "metadata": {},
     "output_type": "execute_result"
    }
   ],
   "source": [
    "texto"
   ]
  },
  {
   "cell_type": "code",
   "execution_count": 13,
   "id": "2aa83ca8",
   "metadata": {},
   "outputs": [
    {
     "name": "stdout",
     "output_type": "stream",
     "text": [
      "Introduce aquí tu edad 5\n"
     ]
    }
   ],
   "source": [
    "numero = int(input('Introduce aquí tu edad '))"
   ]
  },
  {
   "cell_type": "code",
   "execution_count": 21,
   "id": "c8d7cf87",
   "metadata": {},
   "outputs": [
    {
     "data": {
      "text/plain": [
       "8.141592653589793"
      ]
     },
     "execution_count": 21,
     "metadata": {},
     "output_type": "execute_result"
    }
   ],
   "source": [
    "import math\n",
    "math.pi + numero"
   ]
  },
  {
   "cell_type": "code",
   "execution_count": 24,
   "id": "9c805a0b",
   "metadata": {},
   "outputs": [],
   "source": [
    "x = True"
   ]
  },
  {
   "cell_type": "code",
   "execution_count": 25,
   "id": "ba873fd2",
   "metadata": {},
   "outputs": [
    {
     "name": "stdout",
     "output_type": "stream",
     "text": [
      "True\n"
     ]
    }
   ],
   "source": [
    "print(x)"
   ]
  },
  {
   "cell_type": "markdown",
   "id": "295c2618",
   "metadata": {},
   "source": [
    "# Operadores de decisión\n"
   ]
  },
  {
   "cell_type": "code",
   "execution_count": 3,
   "id": "9a5e8fea",
   "metadata": {},
   "outputs": [
    {
     "ename": "SyntaxError",
     "evalue": "invalid syntax (<ipython-input-3-658ed3e1e4f7>, line 2)",
     "output_type": "error",
     "traceback": [
      "\u001b[1;36m  File \u001b[1;32m\"<ipython-input-3-658ed3e1e4f7>\"\u001b[1;36m, line \u001b[1;32m2\u001b[0m\n\u001b[1;33m    si condición booleana:\u001b[0m\n\u001b[1;37m       ^\u001b[0m\n\u001b[1;31mSyntaxError\u001b[0m\u001b[1;31m:\u001b[0m invalid syntax\n"
     ]
    }
   ],
   "source": [
    "# manejar que línea de código se tiene que ejecutar sujetos a condiciones\n",
    "si condición booleana:\n",
    "código que se ejecuta si la condición es verdad\n",
    "..\n",
    "..\n",
    "..\n",
    "siguiente código se ejecuta siempre"
   ]
  },
  {
   "cell_type": "code",
   "execution_count": 5,
   "id": "d42203e2",
   "metadata": {},
   "outputs": [
    {
     "name": "stdout",
     "output_type": "stream",
     "text": [
      "Escribe un número: 2.3\n"
     ]
    }
   ],
   "source": [
    "x = float(input('Escribe un número: '))"
   ]
  },
  {
   "cell_type": "code",
   "execution_count": null,
   "id": "c63500e4",
   "metadata": {},
   "outputs": [],
   "source": [
    "if x == 5: \n",
    "    print('has escrito el número 5')"
   ]
  },
  {
   "cell_type": "code",
   "execution_count": null,
   "id": "0cd0051f",
   "metadata": {},
   "outputs": [],
   "source": [
    "x = int(input(\"Escribe un número: \"))\n",
    "\n",
    "if x < 5:\n",
    "    \n",
    "    print(\"Has escrito un número menor que 5\")\n",
    "\n",
    "elif x <10: \n",
    "    \n",
    "    print (\"Has escrito un número menor que 10 y mayor o igual a 5\")\n",
    "\n",
    "else :\n",
    "    \n",
    "    print(\"El número que has escrito es mayor o igual que 10\")\n"
   ]
  },
  {
   "cell_type": "code",
   "execution_count": 12,
   "id": "e4eabcc2",
   "metadata": {},
   "outputs": [
    {
     "name": "stdout",
     "output_type": "stream",
     "text": [
      "Escribe un número :10\n"
     ]
    }
   ],
   "source": [
    "# operador lógicos and | or\n",
    "x = int(input(\"Escribe un número :\"))\n",
    "\n",
    "if x > 0 and x < 10:\n",
    "    print(\"Has escrito un número entre el rango de (0,10)\")\n"
   ]
  },
  {
   "cell_type": "code",
   "execution_count": null,
   "id": "09f920bd",
   "metadata": {},
   "outputs": [],
   "source": [
    "x = int(input(\"Escribe un número: \"))\n",
    "\n",
    "if x < 0 or x > 10:\n",
    "    print(\"Tú número escrito no está en el rango de (0,10)\")"
   ]
  }
 ],
 "metadata": {
  "kernelspec": {
   "display_name": "Python 3",
   "language": "python",
   "name": "python3"
  },
  "language_info": {
   "codemirror_mode": {
    "name": "ipython",
    "version": 3
   },
   "file_extension": ".py",
   "mimetype": "text/x-python",
   "name": "python",
   "nbconvert_exporter": "python",
   "pygments_lexer": "ipython3",
   "version": "3.8.8"
  }
 },
 "nbformat": 4,
 "nbformat_minor": 5
}
