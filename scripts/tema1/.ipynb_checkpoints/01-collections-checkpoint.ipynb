{
 "cells": [
  {
   "cell_type": "markdown",
   "id": "a3a9210a",
   "metadata": {},
   "source": [
    "# Listas\n",
    "*Son contenedores que permiten almacenar una colección de objetos en un orden determinado. Se pueden acceder, añadir o eliminar objetos de forma sencilla.*"
   ]
  },
  {
   "cell_type": "code",
   "execution_count": 1,
   "id": "d1151deb",
   "metadata": {},
   "outputs": [],
   "source": [
    "L1=[] # Lista vacía"
   ]
  },
  {
   "cell_type": "code",
   "execution_count": 2,
   "id": "6f523de5",
   "metadata": {},
   "outputs": [],
   "source": [
    "L2=['a','e','i', 'o', 'u'] # Lista con valores iniciales"
   ]
  },
  {
   "cell_type": "code",
   "execution_count": 3,
   "id": "d8e165bf",
   "metadata": {},
   "outputs": [],
   "source": [
    "L3=[2,3,5,7,11] # Lista con valores enteros"
   ]
  },
  {
   "cell_type": "code",
   "execution_count": 6,
   "id": "b4b388ce",
   "metadata": {},
   "outputs": [],
   "source": [
    "L4=['a',5, True, 'Alonso Pizarro Lagunas']  # LIsta heterogénea "
   ]
  },
  {
   "cell_type": "code",
   "execution_count": 7,
   "id": "0ea9c125",
   "metadata": {},
   "outputs": [
    {
     "data": {
      "text/plain": [
       "['a', 5, True, 'Alonso Pizarro Lagunas']"
      ]
     },
     "execution_count": 7,
     "metadata": {},
     "output_type": "execute_result"
    }
   ],
   "source": [
    "L4"
   ]
  },
  {
   "cell_type": "code",
   "execution_count": 32,
   "id": "38fd51dd",
   "metadata": {},
   "outputs": [],
   "source": [
    "L5 = [0]*10"
   ]
  },
  {
   "cell_type": "code",
   "execution_count": 9,
   "id": "75b536e0",
   "metadata": {},
   "outputs": [
    {
     "data": {
      "text/plain": [
       "[0, 0, 0, 0, 0, 0, 0, 0, 0, 0]"
      ]
     },
     "execution_count": 9,
     "metadata": {},
     "output_type": "execute_result"
    }
   ],
   "source": [
    "L5"
   ]
  },
  {
   "cell_type": "code",
   "execution_count": 10,
   "id": "1df43ed9",
   "metadata": {},
   "outputs": [
    {
     "data": {
      "text/plain": [
       "'a'"
      ]
     },
     "execution_count": 10,
     "metadata": {},
     "output_type": "execute_result"
    }
   ],
   "source": [
    "L4[0] # las listas de python comienzan en cero"
   ]
  },
  {
   "cell_type": "code",
   "execution_count": 11,
   "id": "c4b21c24",
   "metadata": {},
   "outputs": [
    {
     "data": {
      "text/plain": [
       "5"
      ]
     },
     "execution_count": 11,
     "metadata": {},
     "output_type": "execute_result"
    }
   ],
   "source": [
    "L4[1]"
   ]
  },
  {
   "cell_type": "code",
   "execution_count": 33,
   "id": "c42927c1",
   "metadata": {},
   "outputs": [],
   "source": [
    "L5[4] = 3.1455 "
   ]
  },
  {
   "cell_type": "code",
   "execution_count": 34,
   "id": "47189dc7",
   "metadata": {},
   "outputs": [
    {
     "data": {
      "text/plain": [
       "[0, 0, 0, 0, 3.1455, 0, 0, 0, 0, 0]"
      ]
     },
     "execution_count": 34,
     "metadata": {},
     "output_type": "execute_result"
    }
   ],
   "source": [
    "L5"
   ]
  },
  {
   "cell_type": "code",
   "execution_count": 16,
   "id": "d546bb6c",
   "metadata": {},
   "outputs": [
    {
     "data": {
      "text/plain": [
       "[0, 0]"
      ]
     },
     "execution_count": 16,
     "metadata": {},
     "output_type": "execute_result"
    }
   ],
   "source": [
    "L5[0:2] # comienza en el cero pero no última"
   ]
  },
  {
   "cell_type": "code",
   "execution_count": 35,
   "id": "8764fca7",
   "metadata": {},
   "outputs": [
    {
     "data": {
      "text/plain": [
       "[0, 1, 2, 3, 3.1455, 0, 0, 0, 0, 0]"
      ]
     },
     "execution_count": 35,
     "metadata": {},
     "output_type": "execute_result"
    }
   ],
   "source": [
    "L5[1:4] = [1,2,3]\n",
    "L5"
   ]
  },
  {
   "cell_type": "code",
   "execution_count": 36,
   "id": "e9f3974d",
   "metadata": {},
   "outputs": [],
   "source": [
    "L5.append(8) # añdir un número con append"
   ]
  },
  {
   "cell_type": "code",
   "execution_count": 20,
   "id": "47660fb5",
   "metadata": {},
   "outputs": [
    {
     "data": {
      "text/plain": [
       "[0, 1, 2, 3, 3.1455, 0, 0, 0, 0, 0, 8]"
      ]
     },
     "execution_count": 20,
     "metadata": {},
     "output_type": "execute_result"
    }
   ],
   "source": [
    "L5"
   ]
  },
  {
   "cell_type": "code",
   "execution_count": 21,
   "id": "1c514100",
   "metadata": {},
   "outputs": [
    {
     "data": {
      "text/plain": [
       "[0, 1, 2, 3.1455, 0, 0, 0, 0, 0, 8]"
      ]
     },
     "execution_count": 21,
     "metadata": {},
     "output_type": "execute_result"
    }
   ],
   "source": [
    "L5.remove(3)  # REmovemos la ocurrencia la primera ocurrencia del valor asignado\n",
    "L5"
   ]
  },
  {
   "cell_type": "code",
   "execution_count": 25,
   "id": "057a91f3",
   "metadata": {},
   "outputs": [],
   "source": [
    "L5.reverse() # invertir el orden de la lista con lista.reverse()"
   ]
  },
  {
   "cell_type": "code",
   "execution_count": 26,
   "id": "9b394cc5",
   "metadata": {},
   "outputs": [
    {
     "data": {
      "text/plain": [
       "[8, 0, 0, 0, 0, 0, 3.1455, 2, 1, 0]"
      ]
     },
     "execution_count": 26,
     "metadata": {},
     "output_type": "execute_result"
    }
   ],
   "source": [
    "L5"
   ]
  },
  {
   "cell_type": "code",
   "execution_count": 27,
   "id": "6159ef00",
   "metadata": {},
   "outputs": [
    {
     "data": {
      "text/plain": [
       "6"
      ]
     },
     "execution_count": 27,
     "metadata": {},
     "output_type": "execute_result"
    }
   ],
   "source": [
    "L5.count(0) # cuenta la cantidad de veces que se encuentra el elemento en la lista"
   ]
  },
  {
   "cell_type": "code",
   "execution_count": 28,
   "id": "ed40ed0f",
   "metadata": {},
   "outputs": [
    {
     "data": {
      "text/plain": [
       "7"
      ]
     },
     "execution_count": 28,
     "metadata": {},
     "output_type": "execute_result"
    }
   ],
   "source": [
    "L5.index(2) # La posición en que se encuentra ese elemento"
   ]
  },
  {
   "cell_type": "code",
   "execution_count": 29,
   "id": "ffea7bfb",
   "metadata": {},
   "outputs": [
    {
     "data": {
      "text/plain": [
       "10"
      ]
     },
     "execution_count": 29,
     "metadata": {},
     "output_type": "execute_result"
    }
   ],
   "source": [
    "len(L5) # len() nos entrega la longitud del vector"
   ]
  },
  {
   "cell_type": "code",
   "execution_count": 2,
   "id": "9110b6f5",
   "metadata": {},
   "outputs": [],
   "source": [
    "L = [1,2,3,4,5,6]"
   ]
  },
  {
   "cell_type": "code",
   "execution_count": 32,
   "id": "f28c09e3",
   "metadata": {},
   "outputs": [
    {
     "data": {
      "text/plain": [
       "[2, 4, 6]"
      ]
     },
     "execution_count": 32,
     "metadata": {},
     "output_type": "execute_result"
    }
   ],
   "source": [
    "L[1::2] # selecciono los elementos de dos en dos a partir del la primera posición"
   ]
  },
  {
   "cell_type": "code",
   "execution_count": 33,
   "id": "855af4a7",
   "metadata": {},
   "outputs": [
    {
     "data": {
      "text/plain": [
       "[1, 2, 3, 4, 5, 6]"
      ]
     },
     "execution_count": 33,
     "metadata": {},
     "output_type": "execute_result"
    }
   ],
   "source": [
    "L[:] # Seleccionar toda la lista"
   ]
  },
  {
   "cell_type": "code",
   "execution_count": 35,
   "id": "d3f9c1ba",
   "metadata": {},
   "outputs": [
    {
     "data": {
      "text/plain": [
       "[1, 3, 5]"
      ]
     },
     "execution_count": 35,
     "metadata": {},
     "output_type": "execute_result"
    }
   ],
   "source": [
    "L[::2] # extraemos elementos de una lista en posición par"
   ]
  },
  {
   "cell_type": "code",
   "execution_count": 36,
   "id": "f1db415e",
   "metadata": {},
   "outputs": [
    {
     "data": {
      "text/plain": [
       "6"
      ]
     },
     "execution_count": 36,
     "metadata": {},
     "output_type": "execute_result"
    }
   ],
   "source": [
    "L[-1]  # seleccionar el último de los elementos de la lista"
   ]
  },
  {
   "cell_type": "code",
   "execution_count": 37,
   "id": "ee8890f3",
   "metadata": {},
   "outputs": [
    {
     "data": {
      "text/plain": [
       "False"
      ]
     },
     "execution_count": 37,
     "metadata": {},
     "output_type": "execute_result"
    }
   ],
   "source": [
    "8 in L # para saber si el número está en la lista "
   ]
  },
  {
   "cell_type": "code",
   "execution_count": 38,
   "id": "95c5d819",
   "metadata": {},
   "outputs": [
    {
     "data": {
      "text/plain": [
       "True"
      ]
     },
     "execution_count": 38,
     "metadata": {},
     "output_type": "execute_result"
    }
   ],
   "source": [
    "4 in L "
   ]
  },
  {
   "cell_type": "markdown",
   "id": "54095758",
   "metadata": {},
   "source": [
    "# Bucles \n",
    "*Bucles para recorrer listas*"
   ]
  },
  {
   "cell_type": "markdown",
   "id": "b132b3aa",
   "metadata": {},
   "source": [
    "Los bucles **for** iteran sobre una colección (una lista, un string, un objeto iterable)"
   ]
  },
  {
   "cell_type": "code",
   "execution_count": 3,
   "id": "e4069038",
   "metadata": {},
   "outputs": [
    {
     "name": "stdout",
     "output_type": "stream",
     "text": [
      "1\n",
      "2\n",
      "3\n",
      "4\n",
      "5\n",
      "6\n"
     ]
    }
   ],
   "source": [
    "for numero in L:\n",
    "    print(numero)"
   ]
  },
  {
   "cell_type": "code",
   "execution_count": 6,
   "id": "1341d9a0",
   "metadata": {},
   "outputs": [
    {
     "name": "stdout",
     "output_type": "stream",
     "text": [
      "0\n",
      "1\n",
      "2\n",
      "3\n",
      "4\n",
      "5\n",
      "6\n",
      "7\n",
      "8\n",
      "9\n"
     ]
    }
   ],
   "source": [
    "for x in range(0,10): #range(10): range(0,10)\n",
    "    print(x)"
   ]
  },
  {
   "cell_type": "code",
   "execution_count": 7,
   "id": "3ebb02f9",
   "metadata": {},
   "outputs": [
    {
     "name": "stdout",
     "output_type": "stream",
     "text": [
      "A\n",
      "l\n",
      "o\n",
      "n\n",
      "s\n",
      "o\n",
      " \n",
      "P\n",
      "i\n",
      "z\n",
      "a\n",
      "r\n",
      "r\n",
      "o\n"
     ]
    }
   ],
   "source": [
    "for c in 'Alonso Pizarro':\n",
    "    print(c)"
   ]
  },
  {
   "cell_type": "code",
   "execution_count": 11,
   "id": "5aa84934",
   "metadata": {},
   "outputs": [
    {
     "name": "stdout",
     "output_type": "stream",
     "text": [
      "6.34\n"
     ]
    }
   ],
   "source": [
    "notas = [3.5, 6.7,8,9,4.5]\n",
    "suma = 0\n",
    "for nota in notas:\n",
    "    suma = suma + nota\n",
    "print(suma/len(notas))    \n"
   ]
  },
  {
   "cell_type": "markdown",
   "id": "0e53d4d8",
   "metadata": {},
   "source": [
    "Bucle **while** se repite hasta que la condición booleana dejar de ser cierta"
   ]
  },
  {
   "cell_type": "code",
   "execution_count": 12,
   "id": "082c1ab4",
   "metadata": {},
   "outputs": [
    {
     "name": "stdout",
     "output_type": "stream",
     "text": [
      "0\n",
      "1\n",
      "2\n",
      "3\n",
      "4\n",
      "5\n",
      "6\n",
      "7\n",
      "8\n",
      "9\n"
     ]
    }
   ],
   "source": [
    "count=0\n",
    "while count < 10:\n",
    "    print(count)\n",
    "    count = count + 1  # también podemos hacer count += 1"
   ]
  },
  {
   "cell_type": "code",
   "execution_count": 15,
   "id": "4636fb3d",
   "metadata": {},
   "outputs": [
    {
     "name": "stdout",
     "output_type": "stream",
     "text": [
      "0 2\n",
      "1 3\n",
      "2 5\n",
      "3 7\n",
      "4 11\n",
      "5 13\n",
      "6 17\n",
      "7 19\n",
      "8 23\n",
      "9 29\n"
     ]
    }
   ],
   "source": [
    "primos = [2,3,5,7,11,13,17,19,23,29]\n",
    "for idx, p in enumerate(primos):          # idx es de índice\n",
    "        print(idx, p)"
   ]
  },
  {
   "cell_type": "code",
   "execution_count": 17,
   "id": "4fb137a8",
   "metadata": {},
   "outputs": [
    {
     "name": "stdout",
     "output_type": "stream",
     "text": [
      "0 2\n",
      "1 3\n",
      "2 5\n",
      "3 7\n",
      "4 11\n",
      "5 13\n",
      "6 17\n",
      "7 19\n",
      "8 23\n",
      "9 29\n"
     ]
    }
   ],
   "source": [
    "for idx in range(len(primos)):\n",
    "    print(idx, primos[idx])"
   ]
  },
  {
   "cell_type": "markdown",
   "id": "35d0b752",
   "metadata": {},
   "source": [
    "Mirar criba de eratóstenes"
   ]
  },
  {
   "cell_type": "markdown",
   "id": "4534e515",
   "metadata": {},
   "source": [
    "# Tupla\n",
    "*Es una colección de objetos que no puede modificarse (tiene tamaño y contenido fijo)*"
   ]
  },
  {
   "cell_type": "code",
   "execution_count": 18,
   "id": "bd0bd4f9",
   "metadata": {},
   "outputs": [],
   "source": [
    "p1 = (1)  # una tupla se declara con paréntesis"
   ]
  },
  {
   "cell_type": "code",
   "execution_count": 19,
   "id": "db76513d",
   "metadata": {},
   "outputs": [
    {
     "data": {
      "text/plain": [
       "1"
      ]
     },
     "execution_count": 19,
     "metadata": {},
     "output_type": "execute_result"
    }
   ],
   "source": [
    "p1"
   ]
  },
  {
   "cell_type": "code",
   "execution_count": 20,
   "id": "ebf689ba",
   "metadata": {},
   "outputs": [
    {
     "data": {
      "text/plain": [
       "(1, 2, 3, 4)"
      ]
     },
     "execution_count": 20,
     "metadata": {},
     "output_type": "execute_result"
    }
   ],
   "source": [
    "p2 = (1,2,3,4)\n",
    "p2"
   ]
  },
  {
   "cell_type": "code",
   "execution_count": 21,
   "id": "c3a0b486",
   "metadata": {},
   "outputs": [
    {
     "data": {
      "text/plain": [
       "(1, 2, 'c', 3.14)"
      ]
     },
     "execution_count": 21,
     "metadata": {},
     "output_type": "execute_result"
    }
   ],
   "source": [
    "p3 = (1,2,'c', 3.14)\n",
    "p3"
   ]
  },
  {
   "cell_type": "code",
   "execution_count": 22,
   "id": "cae17102",
   "metadata": {},
   "outputs": [
    {
     "data": {
      "text/plain": [
       "3.14"
      ]
     },
     "execution_count": 22,
     "metadata": {},
     "output_type": "execute_result"
    }
   ],
   "source": [
    "p3[3]"
   ]
  },
  {
   "cell_type": "code",
   "execution_count": 23,
   "id": "6c365d7c",
   "metadata": {},
   "outputs": [
    {
     "data": {
      "text/plain": [
       "(1, 2)"
      ]
     },
     "execution_count": 23,
     "metadata": {},
     "output_type": "execute_result"
    }
   ],
   "source": [
    "p3[0:2]"
   ]
  },
  {
   "cell_type": "code",
   "execution_count": 24,
   "id": "d64a5d13",
   "metadata": {},
   "outputs": [],
   "source": [
    "a,b,c,d = p3"
   ]
  },
  {
   "cell_type": "code",
   "execution_count": 25,
   "id": "fab3365b",
   "metadata": {},
   "outputs": [
    {
     "data": {
      "text/plain": [
       "1"
      ]
     },
     "execution_count": 25,
     "metadata": {},
     "output_type": "execute_result"
    }
   ],
   "source": [
    "a"
   ]
  },
  {
   "cell_type": "code",
   "execution_count": 26,
   "id": "5b3a137e",
   "metadata": {},
   "outputs": [
    {
     "data": {
      "text/plain": [
       "2"
      ]
     },
     "execution_count": 26,
     "metadata": {},
     "output_type": "execute_result"
    }
   ],
   "source": [
    "b"
   ]
  },
  {
   "cell_type": "code",
   "execution_count": 27,
   "id": "48460b4a",
   "metadata": {},
   "outputs": [
    {
     "data": {
      "text/plain": [
       "'c'"
      ]
     },
     "execution_count": 27,
     "metadata": {},
     "output_type": "execute_result"
    }
   ],
   "source": [
    "c"
   ]
  },
  {
   "cell_type": "code",
   "execution_count": 28,
   "id": "e77cdc1b",
   "metadata": {},
   "outputs": [
    {
     "data": {
      "text/plain": [
       "3.14"
      ]
     },
     "execution_count": 28,
     "metadata": {},
     "output_type": "execute_result"
    }
   ],
   "source": [
    "d"
   ]
  },
  {
   "cell_type": "code",
   "execution_count": 29,
   "id": "92a5be7f",
   "metadata": {},
   "outputs": [],
   "source": [
    "l3 = list(p3)"
   ]
  },
  {
   "cell_type": "code",
   "execution_count": 30,
   "id": "994f8e6c",
   "metadata": {},
   "outputs": [
    {
     "data": {
      "text/plain": [
       "[1, 2, 'c', 3.14]"
      ]
     },
     "execution_count": 30,
     "metadata": {},
     "output_type": "execute_result"
    }
   ],
   "source": [
    "l3"
   ]
  },
  {
   "cell_type": "code",
   "execution_count": 38,
   "id": "d6d82a3f",
   "metadata": {},
   "outputs": [
    {
     "data": {
      "text/plain": [
       "(0, 1, 2, 3, 3.1455, 0, 0, 0, 0, 0, 8)"
      ]
     },
     "execution_count": 38,
     "metadata": {},
     "output_type": "execute_result"
    }
   ],
   "source": [
    "p5 = tuple(L5) # tuple transformo una lista en una tupla\n",
    "p5"
   ]
  },
  {
   "cell_type": "code",
   "execution_count": 39,
   "id": "f01a5dc5",
   "metadata": {},
   "outputs": [
    {
     "data": {
      "text/plain": [
       "['Hola', 'que', 'tal', 'estás']"
      ]
     },
     "execution_count": 39,
     "metadata": {},
     "output_type": "execute_result"
    }
   ],
   "source": [
    "\"Hola que tal estás\".split(\" \")  # split para dividir el split"
   ]
  },
  {
   "cell_type": "markdown",
   "id": "e9005e77",
   "metadata": {},
   "source": [
    "*Hacer un programa que permita leer una colección de número separadas por coma, los conviertta en lista y los muetsra como una tupla*"
   ]
  },
  {
   "cell_type": "code",
   "execution_count": 40,
   "id": "9979ffa4",
   "metadata": {},
   "outputs": [
    {
     "name": "stdout",
     "output_type": "stream",
     "text": [
      "Escriba una colección de números separadas por coma, ej: 1,2,3,8 10,88,44,598,1,9,0,-15\n"
     ]
    },
    {
     "data": {
      "text/plain": [
       "('10', '88', '44', '598', '1', '9', '0', '-15')"
      ]
     },
     "execution_count": 40,
     "metadata": {},
     "output_type": "execute_result"
    }
   ],
   "source": [
    "coleccion = input(\"Escriba una colección de números separadas por coma, ej: 1,2,3,8 :\")\n",
    "Lista = coleccion.split(\",\")\n",
    "tupla = tuple(Lista)\n",
    "tupla"
   ]
  },
  {
   "cell_type": "code",
   "execution_count": 45,
   "id": "255cb624",
   "metadata": {},
   "outputs": [
    {
     "name": "stdout",
     "output_type": "stream",
     "text": [
      "91.875\n"
     ]
    }
   ],
   "source": [
    "suma = 0            # haciendo un promedio de los número de la tupla\n",
    "for n in tupla:\n",
    "    suma = suma + int(n)\n",
    "    \n",
    "print(suma/len(tupla))"
   ]
  },
  {
   "cell_type": "markdown",
   "id": "bd12256c",
   "metadata": {},
   "source": [
    "# Diccionarios \n",
    "*Colección no ordenada de pares de valores: claves <->valores. Se indexe no por posición, sino utilizando las claves*"
   ]
  },
  {
   "cell_type": "code",
   "execution_count": 47,
   "id": "8b84f272",
   "metadata": {},
   "outputs": [
    {
     "name": "stdout",
     "output_type": "stream",
     "text": [
      "introduce tu nombrealonso\n",
      "Hola alonso\n"
     ]
    }
   ],
   "source": [
    "nombre = input(\"introduce tu nombre\")\n",
    "print(\"Hola %s\"%nombre)"
   ]
  },
  {
   "cell_type": "code",
   "execution_count": 50,
   "id": "f3aaefee",
   "metadata": {},
   "outputs": [
    {
     "name": "stdout",
     "output_type": "stream",
     "text": [
      "Estos son los números primos: [2, 3, 5, 7, 11, 13, 17, 19, 23, 29]\n"
     ]
    }
   ],
   "source": [
    "print(\"Estos son los números primos: %s\"%primos) # uso de %s para concatenar una lista"
   ]
  },
  {
   "cell_type": "code",
   "execution_count": 52,
   "id": "2f12f5b6",
   "metadata": {},
   "outputs": [
    {
     "name": "stdout",
     "output_type": "stream",
     "text": [
      "Esto es un número: 735\n"
     ]
    }
   ],
   "source": [
    "print(\"Esto es un número: %d\"%suma)  # uso de %d para concatenar un  número entero"
   ]
  },
  {
   "cell_type": "code",
   "execution_count": 53,
   "id": "a44e5992",
   "metadata": {},
   "outputs": [
    {
     "name": "stdout",
     "output_type": "stream",
     "text": [
      "Esto es un número decimal 91.875000\n"
     ]
    }
   ],
   "source": [
    "media = suma/len(tupla)\n",
    "print(\"Esto es un número decimal %f\"%media)"
   ]
  },
  {
   "cell_type": "code",
   "execution_count": 55,
   "id": "1f395f8c",
   "metadata": {},
   "outputs": [
    {
     "name": "stdout",
     "output_type": "stream",
     "text": [
      "Esto es un número decimal 91.88\n"
     ]
    }
   ],
   "source": [
    "media = suma/len(tupla)\n",
    "print(\"Esto es un número decimal %.2f\"%media) # indicarle los números decimales anteponiendo un número y un punto a f"
   ]
  },
  {
   "cell_type": "code",
   "execution_count": 56,
   "id": "4d60d527",
   "metadata": {},
   "outputs": [],
   "source": [
    "edad = {\"Alonso Pizarro\": 30, \"María\": 20, \"Ricardo\": 30, \"Antonio\":45} # primer diccinario, no hay concepto de orden"
   ]
  },
  {
   "cell_type": "code",
   "execution_count": 59,
   "id": "e3bb529d",
   "metadata": {},
   "outputs": [],
   "source": [
    "edad[\"Alonso Pizarro\"] = 41 # Modifando una edad "
   ]
  },
  {
   "cell_type": "code",
   "execution_count": 60,
   "id": "52e1560a",
   "metadata": {},
   "outputs": [
    {
     "data": {
      "text/plain": [
       "{'Alonso Pizarro': 41, 'María': 20, 'Ricardo': 30, 'Antonio': 45}"
      ]
     },
     "execution_count": 60,
     "metadata": {},
     "output_type": "execute_result"
    }
   ],
   "source": [
    "edad"
   ]
  },
  {
   "cell_type": "code",
   "execution_count": 61,
   "id": "c497e77e",
   "metadata": {},
   "outputs": [
    {
     "data": {
      "text/plain": [
       "dict_keys(['Alonso Pizarro', 'María', 'Ricardo', 'Antonio'])"
      ]
     },
     "execution_count": 61,
     "metadata": {},
     "output_type": "execute_result"
    }
   ],
   "source": [
    "edad.keys()  # acceder a claves"
   ]
  },
  {
   "cell_type": "code",
   "execution_count": 62,
   "id": "84837930",
   "metadata": {},
   "outputs": [
    {
     "data": {
      "text/plain": [
       "dict_values([41, 20, 30, 45])"
      ]
     },
     "execution_count": 62,
     "metadata": {},
     "output_type": "execute_result"
    }
   ],
   "source": [
    "edad.values()"
   ]
  },
  {
   "cell_type": "code",
   "execution_count": 63,
   "id": "4d158050",
   "metadata": {},
   "outputs": [
    {
     "data": {
      "text/plain": [
       "4"
      ]
     },
     "execution_count": 63,
     "metadata": {},
     "output_type": "execute_result"
    }
   ],
   "source": [
    "len(edad)  # longitud del diccionario"
   ]
  },
  {
   "cell_type": "code",
   "execution_count": 64,
   "id": "0459fd59",
   "metadata": {},
   "outputs": [
    {
     "data": {
      "text/plain": [
       "True"
      ]
     },
     "execution_count": 64,
     "metadata": {},
     "output_type": "execute_result"
    }
   ],
   "source": [
    "\"María\" in edad   # usamos esta sintaxis para saber si el string está en nuestro diccionario"
   ]
  },
  {
   "cell_type": "code",
   "execution_count": 66,
   "id": "67ecc0a2",
   "metadata": {},
   "outputs": [
    {
     "data": {
      "text/plain": [
       "False"
      ]
     },
     "execution_count": 66,
     "metadata": {},
     "output_type": "execute_result"
    }
   ],
   "source": [
    "\"Juan\" in edad"
   ]
  },
  {
   "cell_type": "code",
   "execution_count": 67,
   "id": "170f5e57",
   "metadata": {},
   "outputs": [
    {
     "data": {
      "text/plain": [
       "True"
      ]
     },
     "execution_count": 67,
     "metadata": {},
     "output_type": "execute_result"
    }
   ],
   "source": [
    "\"Juan\" not in edad"
   ]
  },
  {
   "cell_type": "code",
   "execution_count": 68,
   "id": "72382996",
   "metadata": {},
   "outputs": [],
   "source": [
    "del edad[\"María\"]  # con del podemos eliminar una elemento del dicc"
   ]
  },
  {
   "cell_type": "code",
   "execution_count": 70,
   "id": "952fcee1",
   "metadata": {},
   "outputs": [
    {
     "data": {
      "text/plain": [
       "{'Alonso Pizarro': 41, 'Ricardo': 30, 'Antonio': 45}"
      ]
     },
     "execution_count": 70,
     "metadata": {},
     "output_type": "execute_result"
    }
   ],
   "source": [
    "edad"
   ]
  },
  {
   "cell_type": "code",
   "execution_count": 71,
   "id": "69f13d45",
   "metadata": {},
   "outputs": [],
   "source": [
    "notas = {\"Al1\" : 5.6, \"Al2\":7.5, \"Al3\":10, \"Al4\": False}"
   ]
  },
  {
   "cell_type": "code",
   "execution_count": 72,
   "id": "3168b7b9",
   "metadata": {},
   "outputs": [
    {
     "data": {
      "text/plain": [
       "{'Al1': 5.6, 'Al2': 7.5, 'Al3': 10, 'Al4': False}"
      ]
     },
     "execution_count": 72,
     "metadata": {},
     "output_type": "execute_result"
    }
   ],
   "source": [
    "notas"
   ]
  },
  {
   "cell_type": "code",
   "execution_count": null,
   "id": "a80d5c5f",
   "metadata": {},
   "outputs": [],
   "source": []
  }
 ],
 "metadata": {
  "kernelspec": {
   "display_name": "Python 3",
   "language": "python",
   "name": "python3"
  },
  "language_info": {
   "codemirror_mode": {
    "name": "ipython",
    "version": 3
   },
   "file_extension": ".py",
   "mimetype": "text/x-python",
   "name": "python",
   "nbconvert_exporter": "python",
   "pygments_lexer": "ipython3",
   "version": "3.8.8"
  }
 },
 "nbformat": 4,
 "nbformat_minor": 5
}
