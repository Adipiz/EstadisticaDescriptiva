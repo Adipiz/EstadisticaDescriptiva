{
 "cells": [
  {
   "cell_type": "markdown",
   "id": "c55084e9",
   "metadata": {},
   "source": [
    "# Constantes en Python"
   ]
  },
  {
   "cell_type": "code",
   "execution_count": 2,
   "id": "1ffb8b2c",
   "metadata": {},
   "outputs": [],
   "source": [
    "import math"
   ]
  },
  {
   "cell_type": "code",
   "execution_count": 4,
   "id": "4666cf8a",
   "metadata": {},
   "outputs": [
    {
     "data": {
      "text/plain": [
       "3.141592653589793"
      ]
     },
     "execution_count": 4,
     "metadata": {},
     "output_type": "execute_result"
    }
   ],
   "source": [
    "math.pi"
   ]
  },
  {
   "cell_type": "code",
   "execution_count": 5,
   "id": "61bd930e",
   "metadata": {},
   "outputs": [
    {
     "data": {
      "text/plain": [
       "6.283185307179586"
      ]
     },
     "execution_count": 5,
     "metadata": {},
     "output_type": "execute_result"
    }
   ],
   "source": [
    "math.tau"
   ]
  },
  {
   "cell_type": "code",
   "execution_count": 6,
   "id": "8ac41a40",
   "metadata": {},
   "outputs": [
    {
     "data": {
      "text/plain": [
       "2.718281828459045"
      ]
     },
     "execution_count": 6,
     "metadata": {},
     "output_type": "execute_result"
    }
   ],
   "source": [
    "math.e"
   ]
  },
  {
   "cell_type": "code",
   "execution_count": 8,
   "id": "d3e4b699",
   "metadata": {},
   "outputs": [
    {
     "data": {
      "text/plain": [
       "6.283185307179586"
      ]
     },
     "execution_count": 8,
     "metadata": {},
     "output_type": "execute_result"
    }
   ],
   "source": [
    "2*math.pi"
   ]
  },
  {
   "cell_type": "code",
   "execution_count": 9,
   "id": "86210ae3",
   "metadata": {},
   "outputs": [],
   "source": [
    "tau = 2*math.pi"
   ]
  },
  {
   "cell_type": "code",
   "execution_count": 10,
   "id": "9acd525f",
   "metadata": {},
   "outputs": [
    {
     "data": {
      "text/plain": [
       "inf"
      ]
     },
     "execution_count": 10,
     "metadata": {},
     "output_type": "execute_result"
    }
   ],
   "source": [
    "math.inf"
   ]
  },
  {
   "cell_type": "code",
   "execution_count": 11,
   "id": "89a9075c",
   "metadata": {},
   "outputs": [
    {
     "data": {
      "text/plain": [
       "-inf"
      ]
     },
     "execution_count": 11,
     "metadata": {},
     "output_type": "execute_result"
    }
   ],
   "source": [
    "-math.inf"
   ]
  },
  {
   "cell_type": "code",
   "execution_count": 13,
   "id": "f8d76b9f",
   "metadata": {},
   "outputs": [
    {
     "data": {
      "text/plain": [
       "inf"
      ]
     },
     "execution_count": 13,
     "metadata": {},
     "output_type": "execute_result"
    }
   ],
   "source": [
    "float('inf')   # el float tiene 8 dígitos exactos mientras que los dbls tiene doble precisión"
   ]
  },
  {
   "cell_type": "code",
   "execution_count": 14,
   "id": "2e368bd0",
   "metadata": {},
   "outputs": [
    {
     "ename": "NameError",
     "evalue": "name 'nan' is not defined",
     "output_type": "error",
     "traceback": [
      "\u001b[1;31m---------------------------------------------------------------------------\u001b[0m",
      "\u001b[1;31mNameError\u001b[0m                                 Traceback (most recent call last)",
      "\u001b[1;32m<ipython-input-14-d8e059f69244>\u001b[0m in \u001b[0;36m<module>\u001b[1;34m\u001b[0m\n\u001b[1;32m----> 1\u001b[1;33m \u001b[0mnan\u001b[0m\u001b[1;33m\u001b[0m\u001b[1;33m\u001b[0m\u001b[0m\n\u001b[0m",
      "\u001b[1;31mNameError\u001b[0m: name 'nan' is not defined"
     ]
    }
   ],
   "source": [
    "nan"
   ]
  },
  {
   "cell_type": "code",
   "execution_count": 16,
   "id": "1d17e2f5",
   "metadata": {},
   "outputs": [
    {
     "data": {
      "text/plain": [
       "nan"
      ]
     },
     "execution_count": 16,
     "metadata": {},
     "output_type": "execute_result"
    }
   ],
   "source": [
    "math.nan  # nan: not a number"
   ]
  },
  {
   "cell_type": "code",
   "execution_count": 17,
   "id": "049cb022",
   "metadata": {},
   "outputs": [
    {
     "data": {
      "text/plain": [
       "nan"
      ]
     },
     "execution_count": 17,
     "metadata": {},
     "output_type": "execute_result"
    }
   ],
   "source": [
    "float('nan')"
   ]
  },
  {
   "cell_type": "code",
   "execution_count": 18,
   "id": "1b2132d1",
   "metadata": {},
   "outputs": [
    {
     "ename": "NameError",
     "evalue": "name 'sqrt' is not defined",
     "output_type": "error",
     "traceback": [
      "\u001b[1;31m---------------------------------------------------------------------------\u001b[0m",
      "\u001b[1;31mNameError\u001b[0m                                 Traceback (most recent call last)",
      "\u001b[1;32m<ipython-input-18-9be5b6acd78d>\u001b[0m in \u001b[0;36m<module>\u001b[1;34m\u001b[0m\n\u001b[1;32m----> 1\u001b[1;33m \u001b[0msqrt\u001b[0m\u001b[1;33m(\u001b[0m\u001b[1;33m-\u001b[0m\u001b[1;36m1\u001b[0m\u001b[1;33m,\u001b[0m\u001b[1;36m0\u001b[0m\u001b[1;33m)\u001b[0m\u001b[1;33m\u001b[0m\u001b[1;33m\u001b[0m\u001b[0m\n\u001b[0m",
      "\u001b[1;31mNameError\u001b[0m: name 'sqrt' is not defined"
     ]
    }
   ],
   "source": [
    "sqrt(-1,0)  # ojo con los errores"
   ]
  },
  {
   "cell_type": "code",
   "execution_count": 20,
   "id": "292b2e45",
   "metadata": {},
   "outputs": [
    {
     "data": {
      "text/plain": [
       "2.302585092994046"
      ]
     },
     "execution_count": 20,
     "metadata": {},
     "output_type": "execute_result"
    }
   ],
   "source": [
    "math.log(10)"
   ]
  },
  {
   "cell_type": "code",
   "execution_count": 24,
   "id": "a2adc447",
   "metadata": {},
   "outputs": [
    {
     "data": {
      "text/plain": [
       "22026.465794806718"
      ]
     },
     "execution_count": 24,
     "metadata": {},
     "output_type": "execute_result"
    }
   ],
   "source": [
    "math.exp(10) # exponente"
   ]
  },
  {
   "cell_type": "code",
   "execution_count": 26,
   "id": "6087dfc6",
   "metadata": {},
   "outputs": [
    {
     "data": {
      "text/plain": [
       "16.0"
      ]
     },
     "execution_count": 26,
     "metadata": {},
     "output_type": "execute_result"
    }
   ],
   "source": [
    "math.pow(4,2)  # potencia "
   ]
  },
  {
   "cell_type": "code",
   "execution_count": 29,
   "id": "ab8fdc66",
   "metadata": {},
   "outputs": [
    {
     "data": {
      "text/plain": [
       "6"
      ]
     },
     "execution_count": 29,
     "metadata": {},
     "output_type": "execute_result"
    }
   ],
   "source": [
    "2 + 4"
   ]
  },
  {
   "cell_type": "code",
   "execution_count": 31,
   "id": "1f2d02f8",
   "metadata": {},
   "outputs": [
    {
     "data": {
      "text/plain": [
       "inf"
      ]
     },
     "execution_count": 31,
     "metadata": {},
     "output_type": "execute_result"
    }
   ],
   "source": [
    "math.hypot(math.nan, math.inf)"
   ]
  },
  {
   "cell_type": "markdown",
   "id": "1c42d794",
   "metadata": {},
   "source": [
    "# Representación numérica"
   ]
  },
  {
   "cell_type": "code",
   "execution_count": 32,
   "id": "cffcd0d2",
   "metadata": {},
   "outputs": [
    {
     "data": {
      "text/plain": [
       "4"
      ]
     },
     "execution_count": 32,
     "metadata": {},
     "output_type": "execute_result"
    }
   ],
   "source": [
    "2+2"
   ]
  },
  {
   "cell_type": "code",
   "execution_count": 33,
   "id": "0198c915",
   "metadata": {},
   "outputs": [
    {
     "data": {
      "text/plain": [
       "15"
      ]
     },
     "execution_count": 33,
     "metadata": {},
     "output_type": "execute_result"
    }
   ],
   "source": [
    "3*5"
   ]
  },
  {
   "cell_type": "code",
   "execution_count": 34,
   "id": "0c95883e",
   "metadata": {},
   "outputs": [
    {
     "data": {
      "text/plain": [
       "0.6"
      ]
     },
     "execution_count": 34,
     "metadata": {},
     "output_type": "execute_result"
    }
   ],
   "source": [
    "3/5"
   ]
  },
  {
   "cell_type": "code",
   "execution_count": null,
   "id": "e6d6f204",
   "metadata": {},
   "outputs": [],
   "source": [
    "# $\\int_0^1 x^2 dx$"
   ]
  },
  {
   "cell_type": "code",
   "execution_count": 35,
   "id": "87a1b97d",
   "metadata": {},
   "outputs": [
    {
     "data": {
      "text/plain": [
       "4"
      ]
     },
     "execution_count": 35,
     "metadata": {},
     "output_type": "execute_result"
    }
   ],
   "source": [
    "math.ceil(3.4523)"
   ]
  },
  {
   "cell_type": "code",
   "execution_count": 37,
   "id": "d5abff43",
   "metadata": {},
   "outputs": [
    {
     "data": {
      "text/plain": [
       "3"
      ]
     },
     "execution_count": 37,
     "metadata": {},
     "output_type": "execute_result"
    }
   ],
   "source": [
    "math.floor(3.4523)"
   ]
  },
  {
   "cell_type": "code",
   "execution_count": 47,
   "id": "66294ea9",
   "metadata": {},
   "outputs": [
    {
     "data": {
      "text/plain": [
       "9"
      ]
     },
     "execution_count": 47,
     "metadata": {},
     "output_type": "execute_result"
    }
   ],
   "source": [
    "math.trunc(9.145)"
   ]
  },
  {
   "cell_type": "code",
   "execution_count": 39,
   "id": "89f0d976",
   "metadata": {},
   "outputs": [
    {
     "data": {
      "text/plain": [
       "-3.0"
      ]
     },
     "execution_count": 39,
     "metadata": {},
     "output_type": "execute_result"
    }
   ],
   "source": [
    "math.copysign(3, -2)"
   ]
  },
  {
   "cell_type": "code",
   "execution_count": 42,
   "id": "75ae461d",
   "metadata": {},
   "outputs": [
    {
     "data": {
      "text/plain": [
       "-3.0"
      ]
     },
     "execution_count": 42,
     "metadata": {},
     "output_type": "execute_result"
    }
   ],
   "source": [
    "math.copysign(3, -0.0)  # colocar los números con punto"
   ]
  },
  {
   "cell_type": "code",
   "execution_count": 45,
   "id": "2b459600",
   "metadata": {},
   "outputs": [
    {
     "data": {
      "text/plain": [
       "5.0"
      ]
     },
     "execution_count": 45,
     "metadata": {},
     "output_type": "execute_result"
    }
   ],
   "source": [
    "math.fabs(-5)"
   ]
  },
  {
   "cell_type": "code",
   "execution_count": 48,
   "id": "dc099773",
   "metadata": {},
   "outputs": [
    {
     "data": {
      "text/plain": [
       "8"
      ]
     },
     "execution_count": 48,
     "metadata": {},
     "output_type": "execute_result"
    }
   ],
   "source": [
    "2**3   # '**' es la potencia"
   ]
  },
  {
   "cell_type": "code",
   "execution_count": 51,
   "id": "13bfb6ce",
   "metadata": {},
   "outputs": [
    {
     "data": {
      "text/plain": [
       "24"
      ]
     },
     "execution_count": 51,
     "metadata": {},
     "output_type": "execute_result"
    }
   ],
   "source": [
    "math.factorial(4)"
   ]
  },
  {
   "cell_type": "code",
   "execution_count": 52,
   "id": "4998abb3",
   "metadata": {},
   "outputs": [
    {
     "data": {
      "text/plain": [
       "10.0"
      ]
     },
     "execution_count": 52,
     "metadata": {},
     "output_type": "execute_result"
    }
   ],
   "source": [
    "x = 5\n",
    "y = 2\n",
    "\n",
    "math.factorial(x)/ (math.factorial(y) * math.factorial(x - y))   # ojo que hay librerías como el choose  de r"
   ]
  },
  {
   "cell_type": "code",
   "execution_count": 53,
   "id": "adc8a07f",
   "metadata": {},
   "outputs": [
    {
     "data": {
      "text/plain": [
       "1.0"
      ]
     },
     "execution_count": 53,
     "metadata": {},
     "output_type": "execute_result"
    }
   ],
   "source": [
    "math.fmod(7,3)  # me da el resto de la división"
   ]
  },
  {
   "cell_type": "code",
   "execution_count": 56,
   "id": "53ded162",
   "metadata": {},
   "outputs": [
    {
     "data": {
      "text/plain": [
       "1"
      ]
     },
     "execution_count": 56,
     "metadata": {},
     "output_type": "execute_result"
    }
   ],
   "source": [
    "7%3  # trabaja con números enteros"
   ]
  },
  {
   "cell_type": "code",
   "execution_count": 58,
   "id": "387db841",
   "metadata": {},
   "outputs": [
    {
     "data": {
      "text/plain": [
       "2"
      ]
     },
     "execution_count": 58,
     "metadata": {},
     "output_type": "execute_result"
    }
   ],
   "source": [
    "7//3    # cociente"
   ]
  },
  {
   "cell_type": "code",
   "execution_count": 61,
   "id": "8d37f011",
   "metadata": {},
   "outputs": [
    {
     "data": {
      "text/plain": [
       "1.0"
      ]
     },
     "execution_count": 61,
     "metadata": {},
     "output_type": "execute_result"
    }
   ],
   "source": [
    "math.remainder(7,3) # el resto de la división"
   ]
  },
  {
   "cell_type": "code",
   "execution_count": 63,
   "id": "df559340",
   "metadata": {},
   "outputs": [
    {
     "data": {
      "text/plain": [
       "(-0.25, -4.0)"
      ]
     },
     "execution_count": 63,
     "metadata": {},
     "output_type": "execute_result"
    }
   ],
   "source": [
    "math.modf(-4.25)  # separa la parte entera de la decimal"
   ]
  },
  {
   "cell_type": "code",
   "execution_count": 65,
   "id": "179cca95",
   "metadata": {},
   "outputs": [
    {
     "data": {
      "text/plain": [
       "12"
      ]
     },
     "execution_count": 65,
     "metadata": {},
     "output_type": "execute_result"
    }
   ],
   "source": [
    "math.gcd(24,36)   # Máximo común divisor"
   ]
  },
  {
   "cell_type": "code",
   "execution_count": 70,
   "id": "a2747667",
   "metadata": {},
   "outputs": [
    {
     "data": {
      "text/plain": [
       "True"
      ]
     },
     "execution_count": 70,
     "metadata": {},
     "output_type": "execute_result"
    }
   ],
   "source": [
    "math.isfinite(4.6)\n"
   ]
  },
  {
   "cell_type": "code",
   "execution_count": 71,
   "id": "1916c9b0",
   "metadata": {},
   "outputs": [
    {
     "data": {
      "text/plain": [
       "False"
      ]
     },
     "execution_count": 71,
     "metadata": {},
     "output_type": "execute_result"
    }
   ],
   "source": [
    "math.isinf(4.5)"
   ]
  },
  {
   "cell_type": "code",
   "execution_count": 73,
   "id": "d3a92649",
   "metadata": {},
   "outputs": [
    {
     "data": {
      "text/plain": [
       "False"
      ]
     },
     "execution_count": 73,
     "metadata": {},
     "output_type": "execute_result"
    }
   ],
   "source": [
    "math.isnan(4.5)"
   ]
  },
  {
   "cell_type": "code",
   "execution_count": 75,
   "id": "763c96dc",
   "metadata": {},
   "outputs": [
    {
     "data": {
      "text/plain": [
       "False"
      ]
     },
     "execution_count": 75,
     "metadata": {},
     "output_type": "execute_result"
    }
   ],
   "source": [
    "math.sqrt(2)**2 == 2"
   ]
  },
  {
   "cell_type": "code",
   "execution_count": 79,
   "id": "05e2de2b",
   "metadata": {},
   "outputs": [
    {
     "data": {
      "text/plain": [
       "True"
      ]
     },
     "execution_count": 79,
     "metadata": {},
     "output_type": "execute_result"
    }
   ],
   "source": [
    "math.isclose(math.sqrt(2)**2,2, rel_tol = 1e-09)  # rel_tol define la precisión o cercanía"
   ]
  },
  {
   "cell_type": "code",
   "execution_count": 80,
   "id": "306037ca",
   "metadata": {},
   "outputs": [
    {
     "data": {
      "text/plain": [
       "2.0000000000000004"
      ]
     },
     "execution_count": 80,
     "metadata": {},
     "output_type": "execute_result"
    }
   ],
   "source": [
    "math.sqrt(2)**2"
   ]
  },
  {
   "cell_type": "markdown",
   "id": "faef748a",
   "metadata": {},
   "source": [
    "# Funciones Matemáticas"
   ]
  },
  {
   "cell_type": "code",
   "execution_count": 83,
   "id": "326a6b0e",
   "metadata": {},
   "outputs": [
    {
     "data": {
      "text/plain": [
       "20.085536923187668"
      ]
     },
     "execution_count": 83,
     "metadata": {},
     "output_type": "execute_result"
    }
   ],
   "source": [
    "math.exp(3)  # fn exponencial, esta función es más precisa que hacer la potencia"
   ]
  },
  {
   "cell_type": "code",
   "execution_count": 86,
   "id": "8682711d",
   "metadata": {},
   "outputs": [
    {
     "data": {
      "text/plain": [
       "20.085536923187664"
      ]
     },
     "execution_count": 86,
     "metadata": {},
     "output_type": "execute_result"
    }
   ],
   "source": [
    "math.e**3  # diferencias en los resultados"
   ]
  },
  {
   "cell_type": "code",
   "execution_count": 88,
   "id": "fed1beb6",
   "metadata": {},
   "outputs": [
    {
     "data": {
      "text/plain": [
       "20.085536923187664"
      ]
     },
     "execution_count": 88,
     "metadata": {},
     "output_type": "execute_result"
    }
   ],
   "source": [
    "math.pow(math.e, 3) # fíjate que los resultados son similares"
   ]
  },
  {
   "cell_type": "code",
   "execution_count": 93,
   "id": "641ff19e",
   "metadata": {},
   "outputs": [
    {
     "data": {
      "text/plain": [
       "1.718281828459045"
      ]
     },
     "execution_count": 93,
     "metadata": {},
     "output_type": "execute_result"
    }
   ],
   "source": [
    "math.expm1(1) # corresponde al número exponencial menos 1  "
   ]
  },
  {
   "cell_type": "code",
   "execution_count": 94,
   "id": "8232a48c",
   "metadata": {},
   "outputs": [
    {
     "data": {
      "text/plain": [
       "1.718281828459045"
      ]
     },
     "execution_count": 94,
     "metadata": {},
     "output_type": "execute_result"
    }
   ],
   "source": [
    "math.exp(1) - 1 # es una manera de hacerlo, pero se pierde precisión (según el instructor, se ve que es igual; USA LA FN ANTERIOR)  "
   ]
  },
  {
   "cell_type": "code",
   "execution_count": 96,
   "id": "82ef7de6",
   "metadata": {},
   "outputs": [
    {
     "data": {
      "text/plain": [
       "1.0000050000166667e-05"
      ]
     },
     "execution_count": 96,
     "metadata": {},
     "output_type": "execute_result"
    }
   ],
   "source": [
    " math.expm1(1e-05) # esta es más precisa"
   ]
  },
  {
   "cell_type": "code",
   "execution_count": 97,
   "id": "e0d613ea",
   "metadata": {},
   "outputs": [
    {
     "data": {
      "text/plain": [
       "1.0000050000069649e-05"
      ]
     },
     "execution_count": 97,
     "metadata": {},
     "output_type": "execute_result"
    }
   ],
   "source": [
    "math.exp(1e-05) - 1    # acá se puede notar digferencias con respecto a la expresión anterior"
   ]
  },
  {
   "cell_type": "code",
   "execution_count": 99,
   "id": "9fff3865",
   "metadata": {},
   "outputs": [
    {
     "data": {
      "text/plain": [
       "2.4849066497880004"
      ]
     },
     "execution_count": 99,
     "metadata": {},
     "output_type": "execute_result"
    }
   ],
   "source": [
    "math.log(12)   # si no definimos el argumento en esta fn el programa lo tomará como el log neperiano"
   ]
  },
  {
   "cell_type": "code",
   "execution_count": 101,
   "id": "28c06a25",
   "metadata": {},
   "outputs": [
    {
     "data": {
      "text/plain": [
       "2.9999999999999996"
      ]
     },
     "execution_count": 101,
     "metadata": {},
     "output_type": "execute_result"
    }
   ],
   "source": [
    "math.log(1000,10) # esta es la manera correcta de precisarlo log(arg, base)"
   ]
  },
  {
   "cell_type": "code",
   "execution_count": 102,
   "id": "cd11788a",
   "metadata": {},
   "outputs": [
    {
     "data": {
      "text/plain": [
       "9.99995000033333e-06"
      ]
     },
     "execution_count": 102,
     "metadata": {},
     "output_type": "execute_result"
    }
   ],
   "source": [
    "math.log1p(1e-5) # esta es más precisa en caso de ln(1 + x)"
   ]
  },
  {
   "cell_type": "code",
   "execution_count": 103,
   "id": "0c153733",
   "metadata": {},
   "outputs": [
    {
     "data": {
      "text/plain": [
       "5.0"
      ]
     },
     "execution_count": 103,
     "metadata": {},
     "output_type": "execute_result"
    }
   ],
   "source": [
    "math.log2(32) # log(32,2)"
   ]
  },
  {
   "cell_type": "code",
   "execution_count": 104,
   "id": "3c0d940a",
   "metadata": {},
   "outputs": [
    {
     "data": {
      "text/plain": [
       "5.0"
      ]
     },
     "execution_count": 104,
     "metadata": {},
     "output_type": "execute_result"
    }
   ],
   "source": [
    "math.log(32,2) # "
   ]
  },
  {
   "cell_type": "code",
   "execution_count": 105,
   "id": "976c20bb",
   "metadata": {},
   "outputs": [
    {
     "data": {
      "text/plain": [
       "6.0"
      ]
     },
     "execution_count": 105,
     "metadata": {},
     "output_type": "execute_result"
    }
   ],
   "source": [
    "math.log10(1000000)"
   ]
  },
  {
   "cell_type": "code",
   "execution_count": 106,
   "id": "bc6b77f9",
   "metadata": {},
   "outputs": [
    {
     "data": {
      "text/plain": [
       "-0.8011526357338304"
      ]
     },
     "execution_count": 106,
     "metadata": {},
     "output_type": "execute_result"
    }
   ],
   "source": [
    "math.sin(180) # ojo que está en radianes"
   ]
  },
  {
   "cell_type": "code",
   "execution_count": 108,
   "id": "e0044d25",
   "metadata": {},
   "outputs": [
    {
     "data": {
      "text/plain": [
       "-0.5984600690578581"
      ]
     },
     "execution_count": 108,
     "metadata": {},
     "output_type": "execute_result"
    }
   ],
   "source": [
    "math.cos(180)"
   ]
  },
  {
   "cell_type": "code",
   "execution_count": 109,
   "id": "e30daa63",
   "metadata": {},
   "outputs": [
    {
     "data": {
      "text/plain": [
       "-1.0"
      ]
     },
     "execution_count": 109,
     "metadata": {},
     "output_type": "execute_result"
    }
   ],
   "source": [
    "math.cos(math.pi)"
   ]
  },
  {
   "cell_type": "code",
   "execution_count": 110,
   "id": "7dc983c4",
   "metadata": {},
   "outputs": [
    {
     "data": {
      "text/plain": [
       "1.633123935319537e+16"
      ]
     },
     "execution_count": 110,
     "metadata": {},
     "output_type": "execute_result"
    }
   ],
   "source": [
    "math.tan(math.pi/2)  # es un número muy grande, fíjate que se acerca a infinito"
   ]
  },
  {
   "cell_type": "code",
   "execution_count": 111,
   "id": "1b80da44",
   "metadata": {},
   "outputs": [
    {
     "data": {
      "text/plain": [
       "1.5707963267948966"
      ]
     },
     "execution_count": 111,
     "metadata": {},
     "output_type": "execute_result"
    }
   ],
   "source": [
    "math.asin(1)  # Resultado en radianes"
   ]
  },
  {
   "cell_type": "code",
   "execution_count": 112,
   "id": "bfa4d268",
   "metadata": {},
   "outputs": [
    {
     "data": {
      "text/plain": [
       "0.0"
      ]
     },
     "execution_count": 112,
     "metadata": {},
     "output_type": "execute_result"
    }
   ],
   "source": [
    "math.acos(1)"
   ]
  },
  {
   "cell_type": "code",
   "execution_count": 114,
   "id": "63793b26",
   "metadata": {},
   "outputs": [
    {
     "data": {
      "text/plain": [
       "0.7853981633974483"
      ]
     },
     "execution_count": 114,
     "metadata": {},
     "output_type": "execute_result"
    }
   ],
   "source": [
    "math.atan(1)  # resultado en radianes"
   ]
  },
  {
   "cell_type": "code",
   "execution_count": 116,
   "id": "517f36d6",
   "metadata": {},
   "outputs": [
    {
     "data": {
      "text/plain": [
       "45.0"
      ]
     },
     "execution_count": 116,
     "metadata": {},
     "output_type": "execute_result"
    }
   ],
   "source": [
    "math.degrees(0.7853981633974483)  # convierte los RADIANES a GRADOS"
   ]
  },
  {
   "cell_type": "code",
   "execution_count": 118,
   "id": "5ed75c57",
   "metadata": {},
   "outputs": [
    {
     "data": {
      "text/plain": [
       "1.0471975511965976"
      ]
     },
     "execution_count": 118,
     "metadata": {},
     "output_type": "execute_result"
    }
   ],
   "source": [
    "math.radians(60)  # Una transformación de GRADOS a Radianes"
   ]
  },
  {
   "cell_type": "code",
   "execution_count": 119,
   "id": "e4e000a9",
   "metadata": {},
   "outputs": [
    {
     "data": {
      "text/plain": [
       "0.5000000000000001"
      ]
     },
     "execution_count": 119,
     "metadata": {},
     "output_type": "execute_result"
    }
   ],
   "source": [
    "math.cos(math.radians(60)) # Una transformación  conjunta"
   ]
  },
  {
   "cell_type": "code",
   "execution_count": 120,
   "id": "b8997acf",
   "metadata": {},
   "outputs": [
    {
     "data": {
      "text/plain": [
       "5.0"
      ]
     },
     "execution_count": 120,
     "metadata": {},
     "output_type": "execute_result"
    }
   ],
   "source": [
    "math.hypot(3,4) # qué tan largoi es un vector. es la norma raiz de la suma de los cuadrados"
   ]
  },
  {
   "cell_type": "code",
   "execution_count": 121,
   "id": "2dd65df5",
   "metadata": {},
   "outputs": [
    {
     "data": {
      "text/plain": [
       "5.0"
      ]
     },
     "execution_count": 121,
     "metadata": {},
     "output_type": "execute_result"
    }
   ],
   "source": [
    "math.sqrt(3**2 + 4**2)"
   ]
  },
  {
   "cell_type": "code",
   "execution_count": 122,
   "id": "6a9321bd",
   "metadata": {},
   "outputs": [
    {
     "data": {
      "text/plain": [
       "0.9272952180016122"
      ]
     },
     "execution_count": 122,
     "metadata": {},
     "output_type": "execute_result"
    }
   ],
   "source": [
    "math.atan2(4,3)   # hay que dar el eje de la y y luego el de la x, el resultado está entre [-pi, pi]"
   ]
  },
  {
   "cell_type": "code",
   "execution_count": 123,
   "id": "f45405c9",
   "metadata": {},
   "outputs": [
    {
     "data": {
      "text/plain": [
       "53.13010235415598"
      ]
     },
     "execution_count": 123,
     "metadata": {},
     "output_type": "execute_result"
    }
   ],
   "source": [
    "math.degrees(math.atan2(4,3)) #  construir el angulo de coordenadas (y,x)"
   ]
  },
  {
   "cell_type": "code",
   "execution_count": 124,
   "id": "891ae781",
   "metadata": {},
   "outputs": [
    {
     "data": {
      "text/plain": [
       "0.0"
      ]
     },
     "execution_count": 124,
     "metadata": {},
     "output_type": "execute_result"
    }
   ],
   "source": [
    "math.sinh(0) # funciones hiperbólicas"
   ]
  },
  {
   "cell_type": "code",
   "execution_count": 126,
   "id": "4ca7ff4a",
   "metadata": {},
   "outputs": [
    {
     "data": {
      "text/plain": [
       "1.0"
      ]
     },
     "execution_count": 126,
     "metadata": {},
     "output_type": "execute_result"
    }
   ],
   "source": [
    "math.cosh(0)"
   ]
  },
  {
   "cell_type": "code",
   "execution_count": 127,
   "id": "8ed978ac",
   "metadata": {},
   "outputs": [
    {
     "data": {
      "text/plain": [
       "0.0"
      ]
     },
     "execution_count": 127,
     "metadata": {},
     "output_type": "execute_result"
    }
   ],
   "source": [
    "math.tanh(0)\n"
   ]
  },
  {
   "cell_type": "code",
   "execution_count": 128,
   "id": "6e4fdcc2",
   "metadata": {},
   "outputs": [
    {
     "data": {
      "text/plain": [
       "0.0"
      ]
     },
     "execution_count": 128,
     "metadata": {},
     "output_type": "execute_result"
    }
   ],
   "source": [
    "math.erf(0)   # función de error"
   ]
  },
  {
   "cell_type": "code",
   "execution_count": 130,
   "id": "48dea4ae",
   "metadata": {},
   "outputs": [
    {
     "data": {
      "text/plain": [
       "0.9999911238536323"
      ]
     },
     "execution_count": 130,
     "metadata": {},
     "output_type": "execute_result"
    }
   ],
   "source": [
    "math.erf(math.pi)  "
   ]
  },
  {
   "cell_type": "code",
   "execution_count": 131,
   "id": "d82db45a",
   "metadata": {},
   "outputs": [
    {
     "data": {
      "text/plain": [
       "8.876146367641612e-06"
      ]
     },
     "execution_count": 131,
     "metadata": {},
     "output_type": "execute_result"
    }
   ],
   "source": [
    "math.erfc(math.pi) # función complementaria"
   ]
  },
  {
   "cell_type": "code",
   "execution_count": 132,
   "id": "ddce7a71",
   "metadata": {},
   "outputs": [
    {
     "data": {
      "text/plain": [
       "120.0"
      ]
     },
     "execution_count": 132,
     "metadata": {},
     "output_type": "execute_result"
    }
   ],
   "source": [
    "math.gamma(6) # factorial generalizado gamma"
   ]
  },
  {
   "cell_type": "code",
   "execution_count": 134,
   "id": "5bb96306",
   "metadata": {},
   "outputs": [
    {
     "data": {
      "text/plain": [
       "3.178053830347945"
      ]
     },
     "execution_count": 134,
     "metadata": {},
     "output_type": "execute_result"
    }
   ],
   "source": [
    "math.lgamma(5)"
   ]
  }
 ],
 "metadata": {
  "kernelspec": {
   "display_name": "Python 3",
   "language": "python",
   "name": "python3"
  },
  "language_info": {
   "codemirror_mode": {
    "name": "ipython",
    "version": 3
   },
   "file_extension": ".py",
   "mimetype": "text/x-python",
   "name": "python",
   "nbconvert_exporter": "python",
   "pygments_lexer": "ipython3",
   "version": "3.8.8"
  }
 },
 "nbformat": 4,
 "nbformat_minor": 5
}
