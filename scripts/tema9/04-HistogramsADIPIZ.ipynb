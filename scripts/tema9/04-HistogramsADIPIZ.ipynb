{
 "cells": [
  {
   "cell_type": "markdown",
   "id": "d38570a4",
   "metadata": {},
   "source": [
    "# Histogramas con Python"
   ]
  },
  {
   "cell_type": "markdown",
   "id": "c558c44e",
   "metadata": {},
   "source": [
    "## Histogramas en python puro"
   ]
  },
  {
   "cell_type": "code",
   "execution_count": 1,
   "id": "b7200157",
   "metadata": {},
   "outputs": [],
   "source": [
    "x = (0,1,1,2,2,3,7,7,7,25)"
   ]
  },
  {
   "cell_type": "code",
   "execution_count": 25,
   "id": "e1a40698",
   "metadata": {},
   "outputs": [],
   "source": [
    "# voy a crear una función que cuente los elementos\n",
    "def count_elements(seq) -> dict:\n",
    "    \"\"\"\n",
    "    Función que cuenta las frecuencias\n",
    "    de aparición de cada elemento de la secuencia\n",
    "    creando un diccionario como si fuese una\n",
    "    tabla de frecuencias\n",
    "    \"\"\"\n",
    "    hist = {}\n",
    "    for i in seq:\n",
    "        hist[i] = hist.get(i,0) + 1 \n",
    "    return hist"
   ]
  },
  {
   "cell_type": "code",
   "execution_count": 26,
   "id": "319b93e2",
   "metadata": {},
   "outputs": [],
   "source": [
    "fAbs = count_elements(x)"
   ]
  },
  {
   "cell_type": "code",
   "execution_count": 27,
   "id": "74ce392f",
   "metadata": {},
   "outputs": [
    {
     "data": {
      "text/plain": [
       "{0: 1, 1: 2, 2: 2, 3: 1, 7: 3, 25: 1}"
      ]
     },
     "execution_count": 27,
     "metadata": {},
     "output_type": "execute_result"
    }
   ],
   "source": [
    "fAbs"
   ]
  },
  {
   "cell_type": "code",
   "execution_count": 28,
   "id": "fde9f04e",
   "metadata": {},
   "outputs": [],
   "source": [
    "from collections import Counter"
   ]
  },
  {
   "cell_type": "code",
   "execution_count": 29,
   "id": "57189fc9",
   "metadata": {},
   "outputs": [],
   "source": [
    "fAbs2 = Counter(x)"
   ]
  },
  {
   "cell_type": "code",
   "execution_count": 30,
   "id": "dde5f838",
   "metadata": {},
   "outputs": [
    {
     "data": {
      "text/plain": [
       "Counter({0: 1, 1: 2, 2: 2, 3: 1, 7: 3, 25: 1})"
      ]
     },
     "execution_count": 30,
     "metadata": {},
     "output_type": "execute_result"
    }
   ],
   "source": [
    "fAbs2 "
   ]
  },
  {
   "cell_type": "code",
   "execution_count": 31,
   "id": "fdbee418",
   "metadata": {},
   "outputs": [
    {
     "data": {
      "text/plain": [
       "True"
      ]
     },
     "execution_count": 31,
     "metadata": {},
     "output_type": "execute_result"
    }
   ],
   "source": [
    "fAbs.items() == fAbs.items()  # Comparación de los ítems de los diccionarios"
   ]
  },
  {
   "cell_type": "code",
   "execution_count": 34,
   "id": "74c8f932",
   "metadata": {},
   "outputs": [],
   "source": [
    "def ascii_histogram(seq) -> None:\n",
    "    \"\"\"\n",
    "    Un histograma de frecuencias absolutas\n",
    "    colocado en horizontal y con caracteres ASCII\n",
    "    \"\"\"\n",
    "    \n",
    "    fAbs = count_elements(seq)\n",
    "    for k in sorted(fAbs):\n",
    "        print('{0:5d} {1}'. format(k, '+'*fAbs[k]))\n",
    "      \n",
    "    "
   ]
  },
  {
   "cell_type": "code",
   "execution_count": 35,
   "id": "2bbe2a3f",
   "metadata": {},
   "outputs": [
    {
     "name": "stdout",
     "output_type": "stream",
     "text": [
      "    0 +\n",
      "    1 ++\n",
      "    2 ++\n",
      "    3 +\n",
      "    7 +++\n",
      "   25 +\n"
     ]
    }
   ],
   "source": [
    "ascii_histogram(x)"
   ]
  },
  {
   "cell_type": "code",
   "execution_count": 63,
   "id": "e51b0f2c",
   "metadata": {},
   "outputs": [],
   "source": [
    "import random\n",
    "random.seed(2019)"
   ]
  },
  {
   "cell_type": "code",
   "execution_count": 64,
   "id": "d9154d2b",
   "metadata": {},
   "outputs": [],
   "source": [
    "vals = [1,2,3,4,5,7,8,9,10]\n",
    "freqs = (random.randint(5,20) for _ in vals)"
   ]
  },
  {
   "cell_type": "code",
   "execution_count": 65,
   "id": "9331dd28",
   "metadata": {},
   "outputs": [
    {
     "data": {
      "text/plain": [
       "[1,\n",
       " 1,\n",
       " 1,\n",
       " 1,\n",
       " 1,\n",
       " 1,\n",
       " 1,\n",
       " 1,\n",
       " 1,\n",
       " 2,\n",
       " 2,\n",
       " 2,\n",
       " 2,\n",
       " 2,\n",
       " 2,\n",
       " 2,\n",
       " 2,\n",
       " 2,\n",
       " 2,\n",
       " 2,\n",
       " 2,\n",
       " 3,\n",
       " 3,\n",
       " 3,\n",
       " 3,\n",
       " 3,\n",
       " 3,\n",
       " 3,\n",
       " 3,\n",
       " 3,\n",
       " 3,\n",
       " 3,\n",
       " 3,\n",
       " 3,\n",
       " 3,\n",
       " 3,\n",
       " 3,\n",
       " 3,\n",
       " 3,\n",
       " 3,\n",
       " 3,\n",
       " 4,\n",
       " 4,\n",
       " 4,\n",
       " 4,\n",
       " 4,\n",
       " 4,\n",
       " 4,\n",
       " 4,\n",
       " 4,\n",
       " 4,\n",
       " 5,\n",
       " 5,\n",
       " 5,\n",
       " 5,\n",
       " 5,\n",
       " 5,\n",
       " 5,\n",
       " 5,\n",
       " 5,\n",
       " 5,\n",
       " 5,\n",
       " 5,\n",
       " 7,\n",
       " 7,\n",
       " 7,\n",
       " 7,\n",
       " 7,\n",
       " 7,\n",
       " 7,\n",
       " 7,\n",
       " 7,\n",
       " 7,\n",
       " 7,\n",
       " 7,\n",
       " 8,\n",
       " 8,\n",
       " 8,\n",
       " 8,\n",
       " 8,\n",
       " 8,\n",
       " 8,\n",
       " 8,\n",
       " 8,\n",
       " 8,\n",
       " 8,\n",
       " 8,\n",
       " 8,\n",
       " 8,\n",
       " 8,\n",
       " 9,\n",
       " 9,\n",
       " 9,\n",
       " 9,\n",
       " 9,\n",
       " 9,\n",
       " 9,\n",
       " 9,\n",
       " 9,\n",
       " 9,\n",
       " 9,\n",
       " 9,\n",
       " 9,\n",
       " 9,\n",
       " 10,\n",
       " 10,\n",
       " 10,\n",
       " 10,\n",
       " 10,\n",
       " 10,\n",
       " 10,\n",
       " 10,\n",
       " 10,\n",
       " 10,\n",
       " 10,\n",
       " 10,\n",
       " 10,\n",
       " 10,\n",
       " 10,\n",
       " 10,\n",
       " 10,\n",
       " 10]"
      ]
     },
     "execution_count": 65,
     "metadata": {},
     "output_type": "execute_result"
    }
   ],
   "source": [
    "data = []\n",
    "for k,v in zip(vals, freqs):\n",
    "    data.extend([k]*v)\n",
    "data"
   ]
  },
  {
   "cell_type": "code",
   "execution_count": 66,
   "id": "e3254400",
   "metadata": {},
   "outputs": [
    {
     "name": "stdout",
     "output_type": "stream",
     "text": [
      "    1 +++++++++\n",
      "    2 ++++++++++++\n",
      "    3 ++++++++++++++++++++\n",
      "    4 ++++++++++\n",
      "    5 ++++++++++++\n",
      "    7 ++++++++++++\n",
      "    8 +++++++++++++++\n",
      "    9 ++++++++++++++\n",
      "   10 ++++++++++++++++++\n"
     ]
    }
   ],
   "source": [
    "ascii_histogram(data)"
   ]
  },
  {
   "cell_type": "markdown",
   "id": "df8f3f0f",
   "metadata": {},
   "source": [
    "## Histogramas con NumPy"
   ]
  },
  {
   "cell_type": "code",
   "execution_count": 46,
   "id": "26e15f39",
   "metadata": {},
   "outputs": [],
   "source": [
    "import numpy as np"
   ]
  },
  {
   "cell_type": "code",
   "execution_count": 4,
   "id": "e2690461",
   "metadata": {},
   "outputs": [],
   "source": [
    "np.random.seed(2019) # acá definimos la semilla"
   ]
  },
  {
   "cell_type": "code",
   "execution_count": 6,
   "id": "e03a8279",
   "metadata": {},
   "outputs": [],
   "source": [
    "np.set_printoptions(precision=3) # code cuando quiera definir el n de decimales en los resultados"
   ]
  },
  {
   "cell_type": "code",
   "execution_count": 10,
   "id": "5887f23f",
   "metadata": {},
   "outputs": [],
   "source": [
    "x = np.random.laplace(loc = 10, scale = 3, size=1000)"
   ]
  },
  {
   "cell_type": "code",
   "execution_count": 11,
   "id": "a47fce66",
   "metadata": {},
   "outputs": [
    {
     "data": {
      "text/plain": [
       "array([ 1.337,  6.358, 10.11 , 13.602, 18.232,  8.632, 12.587, -1.769,\n",
       "       14.004, 10.668])"
      ]
     },
     "execution_count": 11,
     "metadata": {},
     "output_type": "execute_result"
    }
   ],
   "source": [
    "x[:10]"
   ]
  },
  {
   "cell_type": "code",
   "execution_count": 12,
   "id": "784a36c4",
   "metadata": {},
   "outputs": [],
   "source": [
    "hist, bin_edges = np.histogram(x)"
   ]
  },
  {
   "cell_type": "code",
   "execution_count": 13,
   "id": "9ace2ec6",
   "metadata": {},
   "outputs": [
    {
     "data": {
      "text/plain": [
       "array([  1,   4,  35, 153, 543, 215,  40,   7,   1,   1], dtype=int64)"
      ]
     },
     "execution_count": 13,
     "metadata": {},
     "output_type": "execute_result"
    }
   ],
   "source": [
    "hist"
   ]
  },
  {
   "cell_type": "code",
   "execution_count": 14,
   "id": "76526220",
   "metadata": {},
   "outputs": [
    {
     "data": {
      "text/plain": [
       "array([-12.819,  -7.916,  -3.012,   1.892,   6.795,  11.699,  16.602,\n",
       "        21.506,  26.409,  31.313,  36.217])"
      ]
     },
     "execution_count": 14,
     "metadata": {},
     "output_type": "execute_result"
    }
   ],
   "source": [
    "bin_edges  # intervalos de la variable continua"
   ]
  },
  {
   "cell_type": "code",
   "execution_count": 16,
   "id": "d1775c3a",
   "metadata": {},
   "outputs": [
    {
     "data": {
      "text/plain": [
       "(10, 11)"
      ]
     },
     "execution_count": 16,
     "metadata": {},
     "output_type": "execute_result"
    }
   ],
   "source": [
    "hist.size, bin_edges.size"
   ]
  },
  {
   "cell_type": "code",
   "execution_count": 17,
   "id": "61eb0a84",
   "metadata": {},
   "outputs": [],
   "source": [
    "min_edge = x.min()\n",
    "max_edge = x.max()"
   ]
  },
  {
   "cell_type": "code",
   "execution_count": 18,
   "id": "05ea9479",
   "metadata": {},
   "outputs": [],
   "source": [
    "n_bins = 10\n",
    "bin_edges = np.linspace(start = min_edge, stop = max_edge, num = n_bins + 1, endpoint = True) # creando las divisiones"
   ]
  },
  {
   "cell_type": "code",
   "execution_count": 19,
   "id": "a31a792e",
   "metadata": {},
   "outputs": [
    {
     "data": {
      "text/plain": [
       "array([-12.819,  -7.916,  -3.012,   1.892,   6.795,  11.699,  16.602,\n",
       "        21.506,  26.409,  31.313,  36.217])"
      ]
     },
     "execution_count": 19,
     "metadata": {},
     "output_type": "execute_result"
    }
   ],
   "source": [
    "bin_edges"
   ]
  },
  {
   "cell_type": "code",
   "execution_count": 25,
   "id": "b34aab9a",
   "metadata": {},
   "outputs": [
    {
     "data": {
      "text/plain": [
       "array([1, 3, 2, 1, 0, 0, 0, 3, 0, 0, 0, 0, 0, 0, 0, 0, 0, 0, 0, 0, 0, 0,\n",
       "       0, 0, 0, 1], dtype=int64)"
      ]
     },
     "execution_count": 25,
     "metadata": {},
     "output_type": "execute_result"
    }
   ],
   "source": [
    "# contar el número de apariciones de cada uno de los datos\n",
    "x = (0,1,1,1,2,2,3,7,7,7,25)\n",
    "bcount = np.bincount(x)\n",
    "bcount\n"
   ]
  },
  {
   "cell_type": "code",
   "execution_count": 26,
   "id": "37b84683",
   "metadata": {},
   "outputs": [],
   "source": [
    "hist, _ = np.histogram(x, range=(0,max(x)), bins = max(x)+1) # es similar a bcount"
   ]
  },
  {
   "cell_type": "code",
   "execution_count": 27,
   "id": "178dd75d",
   "metadata": {},
   "outputs": [
    {
     "data": {
      "text/plain": [
       "array([1, 3, 2, 1, 0, 0, 0, 3, 0, 0, 0, 0, 0, 0, 0, 0, 0, 0, 0, 0, 0, 0,\n",
       "       0, 0, 0, 1], dtype=int64)"
      ]
     },
     "execution_count": 27,
     "metadata": {},
     "output_type": "execute_result"
    }
   ],
   "source": [
    "hist"
   ]
  },
  {
   "cell_type": "code",
   "execution_count": 28,
   "id": "fa773922",
   "metadata": {},
   "outputs": [
    {
     "data": {
      "text/plain": [
       "{0: 1, 1: 3, 2: 2, 3: 1, 7: 0, 25: 0}"
      ]
     },
     "execution_count": 28,
     "metadata": {},
     "output_type": "execute_result"
    }
   ],
   "source": [
    "dict(zip(np.unique(x),bcount))"
   ]
  },
  {
   "cell_type": "markdown",
   "id": "eff6031c",
   "metadata": {},
   "source": [
    "## Visualización de Histogramas"
   ]
  },
  {
   "cell_type": "code",
   "execution_count": 47,
   "id": "a6efa5dc",
   "metadata": {},
   "outputs": [],
   "source": [
    "import matplotlib.pyplot as plt"
   ]
  },
  {
   "cell_type": "code",
   "execution_count": 31,
   "id": "1ad9ba02",
   "metadata": {},
   "outputs": [],
   "source": [
    "np.random.seed(2019)\n",
    "x = np.random.laplace(loc=10, scale=3, size=1000) # loc es el mu y scale es el lambda"
   ]
  },
  {
   "cell_type": "code",
   "execution_count": 36,
   "id": "ebda68e5",
   "metadata": {},
   "outputs": [
    {
     "data": {
      "text/plain": [
       "Text(-10, 80, '$\\\\mu = 10, b = 3$')"
      ]
     },
     "execution_count": 36,
     "metadata": {},
     "output_type": "execute_result"
    },
    {
     "data": {
      "image/png": "[encoded data removed]",
      "text/plain": [
       "<Figure size 432x288 with 1 Axes>"
      ]
     },
     "metadata": {
      "needs_background": "light"
     },
     "output_type": "display_data"
    }
   ],
   "source": [
    "n, bins, patches =  plt.hist(x = x, bins = \"auto\", color =\"#0505a5\", alpha = 0.75, rwidth =0.85)\n",
    "plt.grid(axis ='y', alpha = 0.5)\n",
    "plt.ylabel(\"Frecuencia\")\n",
    "plt.xlabel(\"Valor\")\n",
    "plt.title(\"Histograma de frecuencias\")\n",
    "plt.text(-10,80, r'$\\mu = 10, b = 3$')"
   ]
  },
  {
   "cell_type": "code",
   "execution_count": 37,
   "id": "63ee264a",
   "metadata": {},
   "outputs": [
    {
     "data": {
      "text/plain": [
       "array([  1.,   0.,   0.,   0.,   0.,   0.,   0.,   0.,   0.,   0.,   0.,\n",
       "         0.,   0.,   0.,   0.,   0.,   0.,   0.,   0.,   0.,   3.,   0.,\n",
       "         4.,   5.,   8.,   4.,   7.,  12.,  13.,  15.,  15.,  23.,  39.,\n",
       "        53.,  62.,  81., 113., 132.,  92.,  77.,  54.,  42.,  35.,  31.,\n",
       "        20.,  14.,   9.,  10.,   3.,   5.,   5.,   4.,   3.,   1.,   2.,\n",
       "         0.,   2.,   1.])"
      ]
     },
     "execution_count": 37,
     "metadata": {},
     "output_type": "execute_result"
    }
   ],
   "source": [
    "n"
   ]
  },
  {
   "cell_type": "code",
   "execution_count": 38,
   "id": "3fa7fefb",
   "metadata": {},
   "outputs": [
    {
     "data": {
      "text/plain": [
       "array([-19.167, -18.387, -17.606, -16.826, -16.046, -15.266, -14.486,\n",
       "       -13.706, -12.926, -12.146, -11.366, -10.586,  -9.806,  -9.026,\n",
       "        -8.246,  -7.466,  -6.685,  -5.905,  -5.125,  -4.345,  -3.565,\n",
       "        -2.785,  -2.005,  -1.225,  -0.445,   0.335,   1.115,   1.895,\n",
       "         2.675,   3.455,   4.236,   5.016,   5.796,   6.576,   7.356,\n",
       "         8.136,   8.916,   9.696,  10.476,  11.256,  12.036,  12.816,\n",
       "        13.596,  14.376,  15.157,  15.937,  16.717,  17.497,  18.277,\n",
       "        19.057,  19.837,  20.617,  21.397,  22.177,  22.957,  23.737,\n",
       "        24.517,  25.297,  26.077])"
      ]
     },
     "execution_count": 38,
     "metadata": {},
     "output_type": "execute_result"
    }
   ],
   "source": [
    "bins"
   ]
  },
  {
   "cell_type": "code",
   "execution_count": 39,
   "id": "8d12f91b",
   "metadata": {},
   "outputs": [
    {
     "data": {
      "text/plain": [
       "<BarContainer object of 58 artists>"
      ]
     },
     "execution_count": 39,
     "metadata": {},
     "output_type": "execute_result"
    }
   ],
   "source": [
    "patches"
   ]
  },
  {
   "cell_type": "code",
   "execution_count": 48,
   "id": "a1729f87",
   "metadata": {},
   "outputs": [],
   "source": [
    "# trabajando con pandas\n",
    "import pandas as pd"
   ]
  },
  {
   "cell_type": "code",
   "execution_count": 42,
   "id": "6e43cae6",
   "metadata": {},
   "outputs": [],
   "source": [
    "size, scale = 1000, 10\n",
    "data = pd.Series(np.random.gamma(scale, size= size))"
   ]
  },
  {
   "cell_type": "code",
   "execution_count": 45,
   "id": "2fa2f512",
   "metadata": {},
   "outputs": [
    {
     "data": {
      "image/png": "[encoded data removed]",
      "text/plain": [
       "<Figure size 432x288 with 1 Axes>"
      ]
     },
     "metadata": {
      "needs_background": "light"
     },
     "output_type": "display_data"
    }
   ],
   "source": [
    "data.plot.hist(grid  =True, bins = 20, rwidth = 0.9, color = '#d52675')\n",
    "plt.title('Distribución Gamma')\n",
    "plt.ylabel(\"Frecuencia\")\n",
    "plt.xlabel(\"Valores\")\n",
    "plt.grid(axis = \"y\", alpha = 0.75)\n"
   ]
  },
  {
   "cell_type": "markdown",
   "id": "0d40f694",
   "metadata": {},
   "source": [
    "# Funciones de densidad y de probabilidad"
   ]
  },
  {
   "cell_type": "code",
   "execution_count": 49,
   "id": "27d99f41",
   "metadata": {},
   "outputs": [],
   "source": [
    "mu = 10, 20\n",
    "sigma = 5, 2\n",
    "dist = pd.DataFrame(np.random.normal(loc = mu, scale = sigma, size = (1000,2)), columns=['x1','x2'])"
   ]
  },
  {
   "cell_type": "code",
   "execution_count": 50,
   "id": "ef718067",
   "metadata": {},
   "outputs": [
    {
     "data": {
      "text/html": [
       "<div>\n",
       "<style scoped>\n",
       "    .dataframe tbody tr th:only-of-type {\n",
       "        vertical-align: middle;\n",
       "    }\n",
       "\n",
       "    .dataframe tbody tr th {\n",
       "        vertical-align: top;\n",
       "    }\n",
       "\n",
       "    .dataframe thead th {\n",
       "        text-align: right;\n",
       "    }\n",
       "</style>\n",
       "<table border=\"1\" class=\"dataframe\">\n",
       "  <thead>\n",
       "    <tr style=\"text-align: right;\">\n",
       "      <th></th>\n",
       "      <th>x1</th>\n",
       "      <th>x2</th>\n",
       "    </tr>\n",
       "  </thead>\n",
       "  <tbody>\n",
       "    <tr>\n",
       "      <th>min</th>\n",
       "      <td>-5.826791</td>\n",
       "      <td>13.843851</td>\n",
       "    </tr>\n",
       "    <tr>\n",
       "      <th>max</th>\n",
       "      <td>26.050512</td>\n",
       "      <td>27.173617</td>\n",
       "    </tr>\n",
       "    <tr>\n",
       "      <th>mean</th>\n",
       "      <td>9.955050</td>\n",
       "      <td>19.892540</td>\n",
       "    </tr>\n",
       "    <tr>\n",
       "      <th>std</th>\n",
       "      <td>4.974388</td>\n",
       "      <td>1.961254</td>\n",
       "    </tr>\n",
       "  </tbody>\n",
       "</table>\n",
       "</div>"
      ],
      "text/plain": [
       "             x1         x2\n",
       "min   -5.826791  13.843851\n",
       "max   26.050512  27.173617\n",
       "mean   9.955050  19.892540\n",
       "std    4.974388   1.961254"
      ]
     },
     "execution_count": 50,
     "metadata": {},
     "output_type": "execute_result"
    }
   ],
   "source": [
    "dist.agg(['min', 'max','mean','std']) # un cuadro resumen de nuestro dataframe"
   ]
  },
  {
   "cell_type": "code",
   "execution_count": 51,
   "id": "66862f5e",
   "metadata": {},
   "outputs": [
    {
     "data": {
      "text/plain": [
       "<AxesSubplot:title={'center':'Histograma de dos normales'}, ylabel='Density'>"
      ]
     },
     "execution_count": 51,
     "metadata": {},
     "output_type": "execute_result"
    },
    {
     "data": {
      "image/png": "[encoded data removed]",
      "text/plain": [
       "<Figure size 432x288 with 1 Axes>"
      ]
     },
     "metadata": {
      "needs_background": "light"
     },
     "output_type": "display_data"
    }
   ],
   "source": [
    "fig, ax=plt.subplots()\n",
    "dist.plot.kde(ax=ax, legend = False, title = \"Histograma de dos normales\")"
   ]
  },
  {
   "cell_type": "code",
   "execution_count": 58,
   "id": "45a2ede0",
   "metadata": {},
   "outputs": [
    {
     "data": {
      "image/png": "[encoded data removed]",
      "text/plain": [
       "<Figure size 432x288 with 1 Axes>"
      ]
     },
     "metadata": {
      "needs_background": "light"
     },
     "output_type": "display_data"
    }
   ],
   "source": [
    "fig, ax=plt.subplots()           # haciendo un histograma\n",
    "dist.plot.hist(density = True, ax = ax)\n",
    "ax.grid(axis =\"y\", alpha = 0.75)"
   ]
  },
  {
   "cell_type": "code",
   "execution_count": 62,
   "id": "c73e5bbf",
   "metadata": {},
   "outputs": [
    {
     "data": {
      "image/png": "[encoded data removed]",
      "text/plain": [
       "<Figure size 432x288 with 1 Axes>"
      ]
     },
     "metadata": {
      "needs_background": "light"
     },
     "output_type": "display_data"
    }
   ],
   "source": [
    "fig, ax=plt.subplots()   \n",
    "dist.plot.kde(ax=ax, legend = False, title = \"Histograma de dos normales\") # con kde representamos las funciones de densidad\n",
    "dist.plot.hist(density = True, ax = ax)\n",
    "ax.set_ylabel(\"Probabilidad\")\n",
    "ax.grid(axis = \"y\", alpha = 0.75)\n",
    "ax.set_facecolor(\"#d5d5d5\")"
   ]
  },
  {
   "cell_type": "code",
   "execution_count": 63,
   "id": "78b68748",
   "metadata": {},
   "outputs": [],
   "source": [
    "from scipy import stats"
   ]
  },
  {
   "cell_type": "code",
   "execution_count": 64,
   "id": "a7cd3c47",
   "metadata": {},
   "outputs": [],
   "source": [
    "dist = stats.norm # distribución normal estándar teórica N(0,1) ~ exp(-x**2/sqrt(2pi))"
   ]
  },
  {
   "cell_type": "code",
   "execution_count": 65,
   "id": "ec8616d2",
   "metadata": {},
   "outputs": [],
   "source": [
    "sample = dist.rvs(size = 1000)"
   ]
  },
  {
   "cell_type": "code",
   "execution_count": 67,
   "id": "7329b826",
   "metadata": {},
   "outputs": [],
   "source": [
    "x = np.linspace(start = stats.norm.ppf(0.01), stop = stats.norm.ppf(0.99), num= 250)"
   ]
  },
  {
   "cell_type": "code",
   "execution_count": 68,
   "id": "dc3b54ac",
   "metadata": {},
   "outputs": [],
   "source": [
    "gkde = stats.gaussian_kde(dataset = sample)"
   ]
  },
  {
   "cell_type": "code",
   "execution_count": 70,
   "id": "0f4d3197",
   "metadata": {},
   "outputs": [
    {
     "data": {
      "text/plain": [
       "[<matplotlib.lines.Line2D at 0xd481e3b760>]"
      ]
     },
     "execution_count": 70,
     "metadata": {},
     "output_type": "execute_result"
    },
    {
     "data": {
      "image/png": "[encoded data removed]",
      "text/plain": [
       "<Figure size 432x288 with 1 Axes>"
      ]
     },
     "metadata": {
      "needs_background": "light"
     },
     "output_type": "display_data"
    }
   ],
   "source": [
    "fig, ax = plt.subplots()\n",
    "ax.plot(x, dist.pdf(x), linestyle = \"solid\", c = \"red\", lw=3, alpha = 0.8, label = \"Distribución normal teórica\")\n"
   ]
  },
  {
   "cell_type": "code",
   "execution_count": 72,
   "id": "760d4861",
   "metadata": {},
   "outputs": [
    {
     "data": {
      "text/plain": [
       "Text(-2.0, 0.35, '$f(x) =\\\\frac{e^{-x^2/2}}{\\\\sqrt{2/pi}}}$')"
      ]
     },
     "execution_count": 72,
     "metadata": {},
     "output_type": "execute_result"
    },
    {
     "data": {
      "image/png": "[encoded data removed]",
      "text/plain": [
       "<Figure size 432x288 with 1 Axes>"
      ]
     },
     "metadata": {
      "needs_background": "light"
     },
     "output_type": "display_data"
    }
   ],
   "source": [
    "fig, ax = plt.subplots()\n",
    "ax.plot(x, dist.pdf(x), linestyle = \"solid\", c = \"red\", lw=3, alpha = 0.8, label = \"Distribución normal teórica\")\n",
    "ax.plot(x, gkde.evaluate(x), linestyle = \"dashed\", c = \"green\", lw = 2, label = \"PDF estimada con kde\")\n",
    "ax.legend(loc=\"best\", frameon = False)\n",
    "ax.set_title(\"Normal analítica vs estimada\")\n",
    "ax.set_ylabel(\"Probabilidad\")\n",
    "ax.text(-2., 0.35, r'$f(x) =\\frac{e^{-x^2/2}}{\\sqrt{2/pi}}}$', fontsize = 15)"
   ]
  },
  {
   "cell_type": "markdown",
   "id": "068ee5bf",
   "metadata": {},
   "source": [
    "# Histogramas con seaborn"
   ]
  },
  {
   "cell_type": "code",
   "execution_count": 73,
   "id": "be89075c",
   "metadata": {},
   "outputs": [],
   "source": [
    "import seaborn as sb"
   ]
  },
  {
   "cell_type": "code",
   "execution_count": 76,
   "id": "aca8e8b2",
   "metadata": {},
   "outputs": [
    {
     "name": "stderr",
     "output_type": "stream",
     "text": [
      "C:\\Users\\sept\\anaconda3\\lib\\site-packages\\seaborn\\distributions.py:2557: FutureWarning: `distplot` is a deprecated function and will be removed in a future version. Please adapt your code to use either `displot` (a figure-level function with similar flexibility) or `histplot` (an axes-level function for histograms).\n",
      "  warnings.warn(msg, FutureWarning)\n"
     ]
    },
    {
     "data": {
      "text/plain": [
       "<AxesSubplot:ylabel='Density'>"
      ]
     },
     "execution_count": 76,
     "metadata": {},
     "output_type": "execute_result"
    },
    {
     "data": {
      "image/png": "[encoded data removed]",
      "text/plain": [
       "<Figure size 432x288 with 1 Axes>"
      ]
     },
     "metadata": {
      "needs_background": "light"
     },
     "output_type": "display_data"
    }
   ],
   "source": [
    "sb.distplot(data)"
   ]
  },
  {
   "cell_type": "code",
   "execution_count": 78,
   "id": "8514a301",
   "metadata": {},
   "outputs": [
    {
     "name": "stderr",
     "output_type": "stream",
     "text": [
      "C:\\Users\\sept\\anaconda3\\lib\\site-packages\\seaborn\\distributions.py:2557: FutureWarning: `distplot` is a deprecated function and will be removed in a future version. Please adapt your code to use either `displot` (a figure-level function with similar flexibility) or `histplot` (an axes-level function for histograms).\n",
      "  warnings.warn(msg, FutureWarning)\n"
     ]
    },
    {
     "data": {
      "text/plain": [
       "<AxesSubplot:ylabel='Density'>"
      ]
     },
     "execution_count": 78,
     "metadata": {},
     "output_type": "execute_result"
    },
    {
     "data": {
      "image/png": "[encoded data removed]",
      "text/plain": [
       "<Figure size 432x288 with 1 Axes>"
      ]
     },
     "metadata": {},
     "output_type": "display_data"
    }
   ],
   "source": [
    "np.random.seed(2019)\n",
    "x = np.random.laplace(loc = 10, scale = 3, size  = 1000)\n",
    "sb.set_style(\"darkgrid\")\n",
    "sb.distplot(x)"
   ]
  },
  {
   "cell_type": "code",
   "execution_count": 79,
   "id": "fc8a43f1",
   "metadata": {},
   "outputs": [
    {
     "name": "stderr",
     "output_type": "stream",
     "text": [
      "C:\\Users\\sept\\anaconda3\\lib\\site-packages\\seaborn\\distributions.py:2557: FutureWarning: `distplot` is a deprecated function and will be removed in a future version. Please adapt your code to use either `displot` (a figure-level function with similar flexibility) or `histplot` (an axes-level function for histograms).\n",
      "  warnings.warn(msg, FutureWarning)\n"
     ]
    },
    {
     "data": {
      "text/plain": [
       "<AxesSubplot:>"
      ]
     },
     "execution_count": 79,
     "metadata": {},
     "output_type": "execute_result"
    },
    {
     "data": {
      "image/png": "[encoded data removed]",
      "text/plain": [
       "<Figure size 432x288 with 1 Axes>"
      ]
     },
     "metadata": {},
     "output_type": "display_data"
    }
   ],
   "source": [
    "sb.distplot(data, fit = stats.laplace, kde = False)"
   ]
  },
  {
   "cell_type": "markdown",
   "id": "bb1b9710",
   "metadata": {},
   "source": [
    "## Otras formas"
   ]
  },
  {
   "cell_type": "code",
   "execution_count": 80,
   "id": "5fc3df8e",
   "metadata": {},
   "outputs": [],
   "source": [
    "data2 = np.random.choice(np.arange(10), size =10000, p = np.linspace(1,11,10)/60)"
   ]
  },
  {
   "cell_type": "code",
   "execution_count": 81,
   "id": "4ec3e2a9",
   "metadata": {},
   "outputs": [],
   "source": [
    "s = pd.Series(data2)"
   ]
  },
  {
   "cell_type": "code",
   "execution_count": 82,
   "id": "79a5d4be",
   "metadata": {},
   "outputs": [
    {
     "data": {
      "text/plain": [
       "9    1840\n",
       "8    1622\n",
       "7    1478\n",
       "6    1276\n",
       "5    1050\n",
       "4     909\n",
       "3     781\n",
       "2     537\n",
       "1     361\n",
       "0     146\n",
       "dtype: int64"
      ]
     },
     "execution_count": 82,
     "metadata": {},
     "output_type": "execute_result"
    }
   ],
   "source": [
    "s.value_counts()"
   ]
  },
  {
   "cell_type": "code",
   "execution_count": 83,
   "id": "918e2072",
   "metadata": {},
   "outputs": [
    {
     "data": {
      "text/plain": [
       "9    0.1840\n",
       "8    0.1622\n",
       "7    0.1478\n",
       "6    0.1276\n",
       "5    0.1050\n",
       "4    0.0909\n",
       "3    0.0781\n",
       "2    0.0537\n",
       "1    0.0361\n",
       "0    0.0146\n",
       "dtype: float64"
      ]
     },
     "execution_count": 83,
     "metadata": {},
     "output_type": "execute_result"
    }
   ],
   "source": [
    "s.value_counts(normalize = True) # frecuencia relativa"
   ]
  },
  {
   "cell_type": "code",
   "execution_count": 85,
   "id": "ae06f7c2",
   "metadata": {},
   "outputs": [],
   "source": [
    "ages = pd.Series([1,1,3,5,6,8,10,12,18,18,18,20,25,30,40,51,52])\n",
    "bins = (0,10,15,18,21, np.inf)\n",
    "labels = ('infancia', 'preadolescencia' ,'adolescencia', 'universitario', 'adulto' )\n",
    "groups = pd.cut(ages, bins = bins, labels = labels)"
   ]
  },
  {
   "cell_type": "code",
   "execution_count": 86,
   "id": "4cf89cbf",
   "metadata": {},
   "outputs": [
    {
     "data": {
      "text/plain": [
       "0            infancia\n",
       "1            infancia\n",
       "2            infancia\n",
       "3            infancia\n",
       "4            infancia\n",
       "5            infancia\n",
       "6            infancia\n",
       "7     preadolescencia\n",
       "8        adolescencia\n",
       "9        adolescencia\n",
       "10       adolescencia\n",
       "11      universitario\n",
       "12             adulto\n",
       "13             adulto\n",
       "14             adulto\n",
       "15             adulto\n",
       "16             adulto\n",
       "dtype: category\n",
       "Categories (5, object): ['infancia' < 'preadolescencia' < 'adolescencia' < 'universitario' < 'adulto']"
      ]
     },
     "execution_count": 86,
     "metadata": {},
     "output_type": "execute_result"
    }
   ],
   "source": [
    "groups"
   ]
  },
  {
   "cell_type": "code",
   "execution_count": 87,
   "id": "0d781794",
   "metadata": {},
   "outputs": [
    {
     "data": {
      "text/plain": [
       "infancia           7\n",
       "adulto             5\n",
       "adolescencia       3\n",
       "preadolescencia    1\n",
       "universitario      1\n",
       "dtype: int64"
      ]
     },
     "execution_count": 87,
     "metadata": {},
     "output_type": "execute_result"
    }
   ],
   "source": [
    "groups.value_counts()"
   ]
  },
  {
   "cell_type": "code",
   "execution_count": 89,
   "id": "f46cd733",
   "metadata": {},
   "outputs": [
    {
     "data": {
      "text/html": [
       "<div>\n",
       "<style scoped>\n",
       "    .dataframe tbody tr th:only-of-type {\n",
       "        vertical-align: middle;\n",
       "    }\n",
       "\n",
       "    .dataframe tbody tr th {\n",
       "        vertical-align: top;\n",
       "    }\n",
       "\n",
       "    .dataframe thead th {\n",
       "        text-align: right;\n",
       "    }\n",
       "</style>\n",
       "<table border=\"1\" class=\"dataframe\">\n",
       "  <thead>\n",
       "    <tr style=\"text-align: right;\">\n",
       "      <th></th>\n",
       "      <th>age</th>\n",
       "      <th>group</th>\n",
       "    </tr>\n",
       "  </thead>\n",
       "  <tbody>\n",
       "    <tr>\n",
       "      <th>0</th>\n",
       "      <td>1</td>\n",
       "      <td>infancia</td>\n",
       "    </tr>\n",
       "    <tr>\n",
       "      <th>1</th>\n",
       "      <td>1</td>\n",
       "      <td>infancia</td>\n",
       "    </tr>\n",
       "    <tr>\n",
       "      <th>2</th>\n",
       "      <td>3</td>\n",
       "      <td>infancia</td>\n",
       "    </tr>\n",
       "    <tr>\n",
       "      <th>3</th>\n",
       "      <td>5</td>\n",
       "      <td>infancia</td>\n",
       "    </tr>\n",
       "    <tr>\n",
       "      <th>4</th>\n",
       "      <td>6</td>\n",
       "      <td>infancia</td>\n",
       "    </tr>\n",
       "    <tr>\n",
       "      <th>5</th>\n",
       "      <td>8</td>\n",
       "      <td>infancia</td>\n",
       "    </tr>\n",
       "    <tr>\n",
       "      <th>6</th>\n",
       "      <td>10</td>\n",
       "      <td>infancia</td>\n",
       "    </tr>\n",
       "    <tr>\n",
       "      <th>7</th>\n",
       "      <td>12</td>\n",
       "      <td>preadolescencia</td>\n",
       "    </tr>\n",
       "    <tr>\n",
       "      <th>8</th>\n",
       "      <td>18</td>\n",
       "      <td>adolescencia</td>\n",
       "    </tr>\n",
       "    <tr>\n",
       "      <th>9</th>\n",
       "      <td>18</td>\n",
       "      <td>adolescencia</td>\n",
       "    </tr>\n",
       "    <tr>\n",
       "      <th>10</th>\n",
       "      <td>18</td>\n",
       "      <td>adolescencia</td>\n",
       "    </tr>\n",
       "    <tr>\n",
       "      <th>11</th>\n",
       "      <td>20</td>\n",
       "      <td>universitario</td>\n",
       "    </tr>\n",
       "    <tr>\n",
       "      <th>12</th>\n",
       "      <td>25</td>\n",
       "      <td>adulto</td>\n",
       "    </tr>\n",
       "    <tr>\n",
       "      <th>13</th>\n",
       "      <td>30</td>\n",
       "      <td>adulto</td>\n",
       "    </tr>\n",
       "    <tr>\n",
       "      <th>14</th>\n",
       "      <td>40</td>\n",
       "      <td>adulto</td>\n",
       "    </tr>\n",
       "    <tr>\n",
       "      <th>15</th>\n",
       "      <td>51</td>\n",
       "      <td>adulto</td>\n",
       "    </tr>\n",
       "    <tr>\n",
       "      <th>16</th>\n",
       "      <td>52</td>\n",
       "      <td>adulto</td>\n",
       "    </tr>\n",
       "  </tbody>\n",
       "</table>\n",
       "</div>"
      ],
      "text/plain": [
       "    age            group\n",
       "0     1         infancia\n",
       "1     1         infancia\n",
       "2     3         infancia\n",
       "3     5         infancia\n",
       "4     6         infancia\n",
       "5     8         infancia\n",
       "6    10         infancia\n",
       "7    12  preadolescencia\n",
       "8    18     adolescencia\n",
       "9    18     adolescencia\n",
       "10   18     adolescencia\n",
       "11   20    universitario\n",
       "12   25           adulto\n",
       "13   30           adulto\n",
       "14   40           adulto\n",
       "15   51           adulto\n",
       "16   52           adulto"
      ]
     },
     "execution_count": 89,
     "metadata": {},
     "output_type": "execute_result"
    }
   ],
   "source": [
    "pd.concat((ages, groups), axis = 1).rename(columns = {0:'age', 1: 'group'})"
   ]
  },
  {
   "cell_type": "code",
   "execution_count": null,
   "id": "64e3a103",
   "metadata": {},
   "outputs": [],
   "source": []
  }
 ],
 "metadata": {
  "kernelspec": {
   "display_name": "Python 3",
   "language": "python",
   "name": "python3"
  },
  "language_info": {
   "codemirror_mode": {
    "name": "ipython",
    "version": 3
   },
   "file_extension": ".py",
   "mimetype": "text/x-python",
   "name": "python",
   "nbconvert_exporter": "python",
   "pygments_lexer": "ipython3",
   "version": "3.8.8"
  }
 },
 "nbformat": 4,
 "nbformat_minor": 5
}
